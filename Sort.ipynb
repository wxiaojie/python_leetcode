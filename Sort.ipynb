{
 "cells": [
  {
   "cell_type": "markdown",
   "metadata": {},
   "source": [
    "### 242. Valid Anagram "
   ]
  },
  {
   "cell_type": "markdown",
   "metadata": {},
   "source": [
    "Given two strings s and t , write a function to determine if t is an anagram of s.\n",
    "\n",
    "anagram: (any type of reverse order)"
   ]
  },
  {
   "cell_type": "code",
   "execution_count": 15,
   "metadata": {},
   "outputs": [
    {
     "name": "stdout",
     "output_type": "stream",
     "text": [
      "True\n"
     ]
    }
   ],
   "source": [
    "def isAnagram(s, t):\n",
    "        \"\"\"\n",
    "        :type s: str\n",
    "        :type t: str\n",
    "        :rtype: bool\n",
    "        \"\"\"\n",
    "        if set(s) != set(t) or len(s) != len(t):\n",
    "            return False\n",
    "        else:\n",
    "            unique_c = set(s)\n",
    "            count_s = [s.count(i) for i in unique_c]\n",
    "            count_t = [t.count(i) for i in unique_c]\n",
    "            if count_s == count_t:\n",
    "                return True\n",
    "            else:\n",
    "                return False\n",
    "        \n",
    "print(isAnagram(\"anagram\", \"nagaram\"))"
   ]
  },
  {
   "cell_type": "markdown",
   "metadata": {},
   "source": [
    "### 350. Intersection of Two Arrays II "
   ]
  },
  {
   "cell_type": "markdown",
   "metadata": {},
   "source": [
    "Given two arrays, write a function to compute their intersection.\n",
    "\n",
    "Example:\n",
    "Given nums1 = [1, 2, 2, 1], nums2 = [2, 2], return [2, 2].\n",
    "\n",
    "Note:\n",
    "\n",
    "Each element in the result should appear as many times as it shows in both arrays.\n",
    "\n",
    "The result can be in any order.\n",
    "\n",
    "\n",
    "Follow up:\n",
    "What if the given array is already sorted? How would you optimize your algorithm?\n",
    "—— binary search\n",
    "\n",
    "What if nums1's size is small compared to nums2's size? Which algorithm is better?\n",
    "\n",
    "What if elements of nums2 are stored on disk, and the memory is limited such that you cannot load all elements into the memory at once?"
   ]
  },
  {
   "cell_type": "code",
   "execution_count": 22,
   "metadata": {},
   "outputs": [
    {
     "name": "stdout",
     "output_type": "stream",
     "text": [
      "[2, 2]\n"
     ]
    }
   ],
   "source": [
    "def intersect(nums1, nums2):\n",
    "        \"\"\"\n",
    "        :type nums1: List[int]\n",
    "        :type nums2: List[int]\n",
    "        :rtype: List[int]\n",
    "        \"\"\"\n",
    "        intersection = list(set(nums1) and set(nums2))\n",
    "        num = [min(nums1.count(i), nums2.count(i)) for i in intersection]\n",
    "        res = []\n",
    "        for i in range(len(num)):\n",
    "            res.extend([intersection[i]] * num[i])\n",
    "        return res\n",
    "            \n",
    "print(intersect([1,2,1,2], [2,2]))"
   ]
  },
  {
   "cell_type": "code",
   "execution_count": 24,
   "metadata": {},
   "outputs": [
    {
     "name": "stdout",
     "output_type": "stream",
     "text": [
      "{'q': 1, 'p': 3, 'o': 4}\n",
      "{'p': 3, 'o': 4}\n"
     ]
    }
   ],
   "source": [
    "a = {'q': 1, 'p':3, 'o':4}\n",
    "print(a)\n",
    "del a['q']\n",
    "print(a)"
   ]
  },
  {
   "cell_type": "code",
   "execution_count": 25,
   "metadata": {},
   "outputs": [
    {
     "name": "stdout",
     "output_type": "stream",
     "text": [
      "[2, 2]\n"
     ]
    }
   ],
   "source": [
    "def intersect(nums1, nums2):\n",
    "        \"\"\"\n",
    "        :type nums1: List[int]\n",
    "        :type nums2: List[int]\n",
    "        :rtype: List[int]\n",
    "        \"\"\"\n",
    "        dict_nums1 = {}\n",
    "        for num in nums1:\n",
    "            if num in dict_nums1:\n",
    "                dict_nums1[num] += 1\n",
    "            else:\n",
    "                dict_nums1[num] = 1\n",
    "        \n",
    "        res = []\n",
    "        for num in nums2:\n",
    "            if num in dict_nums1:\n",
    "                res.append(num)\n",
    "                if dict_nums1[num] == 1:\n",
    "                    del dict_nums1[num]\n",
    "                else:\n",
    "                    dict_nums1[num] -=1\n",
    "        return res\n",
    "    \n",
    "print(intersect([1,2,1,2], [2,2]))"
   ]
  },
  {
   "cell_type": "code",
   "execution_count": 29,
   "metadata": {},
   "outputs": [
    {
     "name": "stdout",
     "output_type": "stream",
     "text": [
      "[1, 2, 2, 3, 5]\n",
      "[1, 3, 4, 5, 6]\n"
     ]
    }
   ],
   "source": [
    "a = [1,2,3,5,2]\n",
    "a.sort()\n",
    "print(a)\n",
    "print(sorted([1,5,3,4,6]))"
   ]
  },
  {
   "cell_type": "markdown",
   "metadata": {},
   "source": [
    "快速排序：\n",
    "通过一趟排序将要排序的数据分割成独立的两部分，其中一部分的所有数据都比另外一部分的所有数据都要小，\n",
    "然后再按此方法对这两部分数据分别进行快速排序，整个排序过程可以递归进行，以此达到整个数据变成有序序列。"
   ]
  },
  {
   "cell_type": "code",
   "execution_count": 44,
   "metadata": {},
   "outputs": [
    {
     "name": "stdout",
     "output_type": "stream",
     "text": [
      "[1, 2, 3, 4, 5]\n"
     ]
    }
   ],
   "source": [
    "def quick_sort(array, left, right):\n",
    "    if left >= right:\n",
    "        return array\n",
    "    key = array[left]\n",
    "    low = left\n",
    "    high = right\n",
    "    while left < right:\n",
    "        while left < right and array[right] >= key:\n",
    "            right -= 1\n",
    "        array[left] = array[right]\n",
    "        while left < right and array[left] <= key:\n",
    "            left += 1\n",
    "        array[right] = array[left]\n",
    "    array[left] = key       # left = right\n",
    "    quick_sort(array, low, left-1)\n",
    "    quick_sort(array, left+1, high)\n",
    "    return array\n",
    "\n",
    "if __name__ == \"__main__\":\n",
    "    print(quick_sort([1,4,5,2,3], 0, 4))"
   ]
  },
  {
   "cell_type": "code",
   "execution_count": 16,
   "metadata": {},
   "outputs": [
    {
     "name": "stdout",
     "output_type": "stream",
     "text": [
      "initial array: \n",
      " [1, 4, 7, 1, 5, 5, 3, 85, 34, 75, 23, 75, 2, 0]\n",
      "sorted array: \n",
      " [0, 1, 1, 2, 3, 4, 5, 5, 7, 23, 34, 75, 75, 85]\n"
     ]
    }
   ],
   "source": [
    "def partition(array, left, right):\n",
    "    x = array[right]\n",
    "    i = left-1\n",
    "    for j in range(left, right):\n",
    "        if array[j] <= x:\n",
    "            i = i+1\n",
    "            array[j], array[i] = array[i], array[j]\n",
    "    array[i+1],array[right] = array[right],array[i+1]\n",
    "    return i+1\n",
    "\n",
    "def quickSort(array, left, right):\n",
    "    if left < right:\n",
    "        temp_index = partition(array, left, right)\n",
    "        quickSort(array, left, temp_index-1)   # two complementary region\n",
    "        quickSort(array, temp_index, right)\n",
    "    else:\n",
    "        return\n",
    "    \n",
    "if __name__ == \"__main__\":\n",
    "    arr = [1,4,7,1,5,5,3,85,34,75,23,75,2,0]\n",
    "    print('initial array: \\n', arr)\n",
    "    quickSort(arr, 0, len(arr)-1)\n",
    "    print('sorted array: \\n', arr)"
   ]
  },
  {
   "cell_type": "code",
   "execution_count": 43,
   "metadata": {},
   "outputs": [
    {
     "name": "stdout",
     "output_type": "stream",
     "text": [
      "[2, 2]\n"
     ]
    }
   ],
   "source": [
    "def intersect(nums1, nums2):\n",
    "        \"\"\"\n",
    "        :type nums1: List[int]\n",
    "        :type nums2: List[int]\n",
    "        :rtype: List[int]\n",
    "        \"\"\"\n",
    "        nums1 = quick_sort(nums1, 0, len(nums1)-1)\n",
    "        nums2 = quick_sort(nums2, 0, len(nums2)-1)\n",
    "        \n",
    "        i = 0\n",
    "        j = 0\n",
    "        res = []\n",
    "        while i < len(nums1) and j < len(nums2):\n",
    "            if nums1[i] == nums2[j]:\n",
    "                res.append(nums1[i])\n",
    "                i += 1\n",
    "                j += 1\n",
    "            elif nums1[i] < nums2[j]:\n",
    "                i += 1\n",
    "            else:\n",
    "                j += 1\n",
    "        return res\n",
    "    \n",
    "print(intersect([1,2,1,2], [2,2]))"
   ]
  },
  {
   "cell_type": "code",
   "execution_count": null,
   "metadata": {},
   "outputs": [],
   "source": []
  }
 ],
 "metadata": {
  "kernelspec": {
   "display_name": "Python 3",
   "language": "python",
   "name": "python3"
  },
  "language_info": {
   "codemirror_mode": {
    "name": "ipython",
    "version": 3
   },
   "file_extension": ".py",
   "mimetype": "text/x-python",
   "name": "python",
   "nbconvert_exporter": "python",
   "pygments_lexer": "ipython3",
   "version": "3.6.1"
  }
 },
 "nbformat": 4,
 "nbformat_minor": 2
}
