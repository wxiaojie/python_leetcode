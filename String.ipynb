{
 "cells": [
  {
   "cell_type": "markdown",
   "metadata": {},
   "source": [
    "### 58. Length of Last Word "
   ]
  },
  {
   "cell_type": "markdown",
   "metadata": {},
   "source": [
    "The count-and-say sequence is the sequence of integers with the first five terms as following:"
   ]
  },
  {
   "cell_type": "markdown",
   "metadata": {},
   "source": [
    "Given a string s consists of upper/lower-case alphabets and empty space characters ' ', return the length of last word in the string.\n",
    "\n",
    "If the last word does not exist, return 0.\n",
    "\n",
    "Note: A word is defined as a character sequence consists of non-space characters only."
   ]
  },
  {
   "cell_type": "code",
   "execution_count": 24,
   "metadata": {},
   "outputs": [
    {
     "name": "stdout",
     "output_type": "stream",
     "text": [
      "1\n"
     ]
    }
   ],
   "source": [
    "def lengthOfLastWord(s):\n",
    "    \"\"\"\n",
    "    :type s: str\n",
    "    :rtype: int\n",
    "    \"\"\"\n",
    "    words = s.split(' ')\n",
    "    while words.count('')>0:\n",
    "        words.remove('')\n",
    "    if len(words)>0:\n",
    "        return len(words[-1])\n",
    "    else:\n",
    "        return 0\n",
    "\n",
    "print(lengthOfLastWord('a '))"
   ]
  },
  {
   "cell_type": "code",
   "execution_count": 35,
   "metadata": {},
   "outputs": [
    {
     "name": "stdout",
     "output_type": "stream",
     "text": [
      "1\n"
     ]
    }
   ],
   "source": [
    "def lengthOfLastWord(s):\n",
    "    \"\"\"\n",
    "    :type s: str\n",
    "    :rtype: int\n",
    "    \"\"\"\n",
    "    s = s.rstrip()\n",
    "    if not s:\n",
    "        return 0\n",
    "    else:\n",
    "        return len(s.split(' ')[-1])\n",
    "\n",
    "print(lengthOfLastWord('a '))"
   ]
  },
  {
   "cell_type": "code",
   "execution_count": 41,
   "metadata": {},
   "outputs": [
    {
     "name": "stdout",
     "output_type": "stream",
     "text": [
      "0\n"
     ]
    }
   ],
   "source": [
    "def lengthOfLastWord(s):\n",
    "    \"\"\"\n",
    "    :type s: str\n",
    "    :rtype: int\n",
    "    \"\"\"\n",
    "    words = s.split()\n",
    "    if len(words)>0:\n",
    "        return len(words[-1])\n",
    "    else:\n",
    "        return 0\n",
    "\n",
    "print(lengthOfLastWord(' '))"
   ]
  },
  {
   "cell_type": "markdown",
   "metadata": {},
   "source": [
    "### 67. Add Binary "
   ]
  },
  {
   "cell_type": "markdown",
   "metadata": {},
   "source": [
    "Given two binary strings, return their sum (also a binary string).\n",
    "\n",
    "The input strings are both non-empty and contains only characters 1 or 0."
   ]
  },
  {
   "cell_type": "code",
   "execution_count": 48,
   "metadata": {},
   "outputs": [
    {
     "name": "stdout",
     "output_type": "stream",
     "text": [
      "100\n"
     ]
    }
   ],
   "source": [
    "def addBinary(a, b):\n",
    "    \"\"\"\n",
    "    :type a: str\n",
    "    :type b: str\n",
    "    :rtype: str\n",
    "    \"\"\"\n",
    "    a = int(a,2)\n",
    "    b = int(b, 2)\n",
    "    c = a+b\n",
    "    return bin(c)[2:]\n",
    "\n",
    "print(addBinary('11','1'))"
   ]
  },
  {
   "cell_type": "code",
   "execution_count": 68,
   "metadata": {},
   "outputs": [
    {
     "name": "stdout",
     "output_type": "stream",
     "text": [
      "101101\n"
     ]
    }
   ],
   "source": [
    "def addBinary(a, b):\n",
    "    \"\"\"\n",
    "    :type a: str\n",
    "    :type b: str\n",
    "    :rtype: str\n",
    "    \"\"\"\n",
    "    if len(a) > len(b):\n",
    "        b = '0'*(len(a)-len(b))+b\n",
    "    elif len(a) < len(b):\n",
    "        a = '0'*(len(b)-len(a))+a\n",
    "    add = 0\n",
    "    res_total = ''\n",
    "    for idx in range(len(a)-1, -1, -1):\n",
    "        res = int(a[idx]) + int(b[idx]) + add\n",
    "        add = res // 2\n",
    "        res = res % 2\n",
    "        res_total = str(res) + res_total\n",
    "    if add != 0:\n",
    "        res_total = str(add) + res_total \n",
    "    return res_total\n",
    "    \n",
    "print(addBinary('11', '101010'))"
   ]
  },
  {
   "cell_type": "code",
   "execution_count": 70,
   "metadata": {},
   "outputs": [
    {
     "name": "stdout",
     "output_type": "stream",
     "text": [
      "100\n"
     ]
    }
   ],
   "source": [
    "def addBinary(a, b):\n",
    "    # pad the smaller length with leading zeros\n",
    "    m=len(a)\n",
    "    n=len(b)\n",
    "    if m<n: \n",
    "        a = '0'*(n-m) + a\n",
    "    else:\n",
    "        b= '0'*(m-n) + b \n",
    "\n",
    "    # Now do operation：1. a XOR b XOR carry     2. (a&b) or (b&c) or (c&a)\n",
    "    i=max(m,n)-1\n",
    "    c_=0\n",
    "    ans=''\n",
    "    while (i>=0 or c_==1):\n",
    "        if i<0: \n",
    "            ans = ''.join((str(c_), ans))\n",
    "            break\n",
    "        a_ = int(a[i])\n",
    "        b_ = int(b[i])\n",
    "        temp = a_ ^ b_ ^ c_   #result of current position\n",
    "        c_ = (a_ & b_) | (b_ & c_) | (c_ & a_)  # carry， 进位\n",
    "        ans = ''.join((str(temp), ans)) #simulate push\n",
    "\n",
    "        i = i-1\n",
    "\n",
    "    return ans\n",
    "\n",
    "print(addBinary('11','1'))"
   ]
  },
  {
   "cell_type": "code",
   "execution_count": 74,
   "metadata": {},
   "outputs": [
    {
     "name": "stdout",
     "output_type": "stream",
     "text": [
      "100\n"
     ]
    }
   ],
   "source": [
    "def addBinary(a,b):\n",
    "    m = len(a)\n",
    "    n = len(b)\n",
    "    if m<n:\n",
    "        a = '0'*(n-m) + a\n",
    "    else:\n",
    "        b = '0' *(m-n) + b\n",
    "    c_ = 0\n",
    "    i = len(a) -1\n",
    "    ans_ = ''\n",
    "    while (i >=0 or c_ >0):\n",
    "        if i<0:\n",
    "            ans_ =  str(c_) + ans_\n",
    "            break\n",
    "        a_ = int(a[i])\n",
    "        b_ = int(b[i])\n",
    "        temp = a_ ^ b_ ^ c_\n",
    "        ans_ = str(temp) + ans_\n",
    "        c_ = (a_&b_) | (a_&c_) | (b_&c_)\n",
    "        i -= 1\n",
    "    return ans_\n",
    "\n",
    "print(addBinary('11','1'))"
   ]
  },
  {
   "cell_type": "markdown",
   "metadata": {},
   "source": [
    "### 125. Valid Palindrome "
   ]
  },
  {
   "cell_type": "markdown",
   "metadata": {},
   "source": [
    "Given a string, determine if it is a palindrome, considering only alphanumeric characters and ignoring cases.\n",
    "\n",
    "Note: For the purpose of this problem, we define empty string as valid palindrome."
   ]
  },
  {
   "cell_type": "code",
   "execution_count": 83,
   "metadata": {},
   "outputs": [
    {
     "name": "stdout",
     "output_type": "stream",
     "text": [
      "['a', 'm', 'a', 'n', 'a', 'p', 'l', 'a', 'n', 'a', 'c', 'a', 'n', 'a', 'l', 'p', 'a', 'n', 'a', 'm', 'a']\n",
      "['a', 'm', 'a', 'n', 'a', 'p', 'l', 'a', 'n', 'a', 'c', 'a', 'n', 'a', 'l', 'p', 'a', 'n', 'a', 'm', 'a']\n"
     ]
    }
   ],
   "source": [
    "s = \"A man, a plan, a canal: Panama\"\n",
    "s = [c.lower() for c in s if c.isalnum()]\n",
    "print(s)\n",
    "print(s[::-1])"
   ]
  },
  {
   "cell_type": "code",
   "execution_count": 85,
   "metadata": {},
   "outputs": [
    {
     "name": "stdout",
     "output_type": "stream",
     "text": [
      "True\n"
     ]
    }
   ],
   "source": [
    "def isPalindrome(s):\n",
    "    \"\"\"\n",
    "    :type s: str\n",
    "    :rtype: bool\n",
    "    \"\"\"\n",
    "    s = [i.lower() for i in s if i.isalnum()]\n",
    "    return s == s[::-1]\n",
    "\n",
    "print(isPalindrome(\"A man, a plan, a canal: Panama\"))"
   ]
  },
  {
   "cell_type": "markdown",
   "metadata": {},
   "source": [
    "### 20. Valid Parentheses "
   ]
  },
  {
   "cell_type": "markdown",
   "metadata": {},
   "source": [
    "Given a string containing just the characters '(', ')', '{', '}', '[' and ']', determine if the input string is valid.\n",
    "\n",
    "An input string is valid if:\n",
    "\n",
    "Open brackets must be closed by the same type of brackets.\n",
    "\n",
    "Open brackets must be closed in the correct order.\n",
    "\n",
    "Note that an empty string is also considered valid."
   ]
  },
  {
   "cell_type": "code",
   "execution_count": 99,
   "metadata": {},
   "outputs": [
    {
     "name": "stdout",
     "output_type": "stream",
     "text": [
      "False\n"
     ]
    }
   ],
   "source": [
    "def isValid(s):\n",
    "    \"\"\"\n",
    "    :type s: str\n",
    "    :rtype: bool\n",
    "    \"\"\"\n",
    "    left=['{','[','(']\n",
    "    match=[('(',')'),('{','}'),('[',']')]\n",
    "    seen = []\n",
    "    for i in s:\n",
    "        if i in left:\n",
    "            seen.append(i)\n",
    "        else:\n",
    "            if len(seen) == 0:\n",
    "                return False\n",
    "            last = seen.pop()\n",
    "            if (last, i) not in match:\n",
    "                return False\n",
    "    return seen == []\n",
    "\n",
    "print(isValid(\"([)]\"))"
   ]
  },
  {
   "cell_type": "markdown",
   "metadata": {},
   "source": [
    "### 678. Valid Parenthesis String "
   ]
  },
  {
   "cell_type": "markdown",
   "metadata": {},
   "source": [
    "Given a string containing only three types of characters: '(', ')' and '*', write a function to check whether this string is valid. We define the validity of a string by these rules:\n",
    "\n",
    "Any left parenthesis '(' must have a corresponding right parenthesis ')'.\n",
    "\n",
    "Any right parenthesis ')' must have a corresponding left parenthesis '('.\n",
    "\n",
    "Left parenthesis '(' must go before the corresponding right parenthesis ')'.\n",
    "'*' could be treated as a single right parenthesis ')' or a single left parenthesis '(' or an empty string.\n",
    "\n",
    "An empty string is also valid."
   ]
  },
  {
   "cell_type": "code",
   "execution_count": 105,
   "metadata": {},
   "outputs": [
    {
     "name": "stdout",
     "output_type": "stream",
     "text": [
      "True\n"
     ]
    }
   ],
   "source": [
    "def isValid(s):   ## wrong\n",
    "    \"\"\"\n",
    "    :type s: str\n",
    "    :rtype: bool\n",
    "    \"\"\"\n",
    "    count_left = 0\n",
    "    count_star = 0\n",
    "    for i in s:\n",
    "        if i == '(':\n",
    "            count_left += 1\n",
    "        elif i == ')':\n",
    "            count_left -= 1\n",
    "            if count_star + count_left < 0:\n",
    "                return False\n",
    "            elif count_left < 0:\n",
    "                count_left = 0\n",
    "                count_star = count_star + count_left\n",
    "        else:\n",
    "            count_star += 1\n",
    "    if count_left > count_star:\n",
    "        return False\n",
    "    else:\n",
    "        return True\n",
    "    \n",
    "print(isValid('((**)))()*('))"
   ]
  },
  {
   "cell_type": "markdown",
   "metadata": {},
   "source": [
    "from https://leetcode.com/articles/valid-parenthesis-string/\n",
    "\n",
    "Algorithm\n",
    "\n",
    "Let lo, hi respectively be the smallest and largest possible number of open left brackets after processing the current character in the string.\n",
    "\n",
    "If we encounter a left bracket (c == '('), then lo++, otherwise we could write a right bracket, so lo--. If we encounter what can be a left bracket (c != ')'), then hi++, otherwise we must write a right bracket, so hi--. If hi < 0, then the current prefix can't be made valid no matter what our choices are. Also, we can never have less than 0 open left brackets. At the end, we should check that we can have exactly 0 open left brackets."
   ]
  },
  {
   "cell_type": "code",
   "execution_count": 110,
   "metadata": {},
   "outputs": [
    {
     "name": "stdout",
     "output_type": "stream",
     "text": [
      "False\n"
     ]
    }
   ],
   "source": [
    "def checkValidString(s):\n",
    "    \"\"\"\n",
    "    :type s: str\n",
    "    :rtype: bool\n",
    "    \"\"\"\n",
    "    # count two pointers: lo records the possible smallest number of left bracket, hi records the largest\n",
    "    lo, hi = 0, 0\n",
    "    for c in s:\n",
    "        lo +=1 if c == '(' else -1\n",
    "        hi += 1 if c !=')' else -1\n",
    "        if hi < 0:\n",
    "            break\n",
    "        lo = max(lo, 0)\n",
    "    \n",
    "    return lo == 0\n",
    "\n",
    "print(checkValidString('((**)))()*('))"
   ]
  },
  {
   "cell_type": "markdown",
   "metadata": {},
   "source": [
    "### 13. Roman to Integer "
   ]
  },
  {
   "cell_type": "markdown",
   "metadata": {},
   "source": [
    "Symbol       Value\n",
    "\n",
    "I             1\n",
    "\n",
    "V             5\n",
    "\n",
    "X             10\n",
    "\n",
    "L             50\n",
    "\n",
    "C             100\n",
    "\n",
    "D             500\n",
    "\n",
    "M             1000\n",
    "\n",
    "For example, two is written as II in Roman numeral, just two one's added together. Twelve is written as, XII, which is simply X + II. The number twenty seven is written as XXVII, which is XX + V + II.\n",
    "\n",
    "Roman numerals are usually written largest to smallest from left to right. However, the numeral for four is not IIII. Instead, the number four is written as IV. Because the one is before the five we subtract it making four. The same principle applies to the number nine, which is written as IX. There are six instances where subtraction is used:\n",
    "\n",
    "I can be placed before V (5) and X (10) to make 4 and 9. \n",
    "\n",
    "X can be placed before L (50) and C (100) to make 40 and 90. \n",
    "\n",
    "C can be placed before D (500) and M (1000) to make 400 and 900.\n",
    "\n",
    "Given a roman numeral, convert it to an integer. Input is guaranteed to be within the range from 1 to 3999."
   ]
  },
  {
   "cell_type": "code",
   "execution_count": 13,
   "metadata": {},
   "outputs": [
    {
     "name": "stdout",
     "output_type": "stream",
     "text": [
      "3\n"
     ]
    }
   ],
   "source": [
    "def romanToInt(s):\n",
    "        \"\"\"\n",
    "        :type s: str\n",
    "        :rtype: int\n",
    "        \"\"\"\n",
    "        dicta = {\"I\":1, 'V':5, 'X':10, 'L':50, 'C':100, 'D':500, 'M':1000}\n",
    "        dictb = {'IV':4, 'IX':9, 'XL':40, 'XC':90, 'CD':400,'CM':900}\n",
    "        num = 0\n",
    "        for i in dictb.keys():\n",
    "            if i in s:\n",
    "                num += dictb[i]\n",
    "                s = s.replace(i,'')\n",
    "        for i in s:\n",
    "            num += dicta[i]\n",
    "        return num\n",
    "    \n",
    "print(romanToInt('III'))"
   ]
  },
  {
   "cell_type": "code",
   "execution_count": 17,
   "metadata": {},
   "outputs": [
    {
     "name": "stdout",
     "output_type": "stream",
     "text": [
      "3\n"
     ]
    }
   ],
   "source": [
    "def romanToInt(s):\n",
    "        \"\"\"\n",
    "        :type s: str\n",
    "        :rtype: int\n",
    "        \"\"\"\n",
    "        dicta = {\"I\":1, 'V':5, 'X':10, 'L':50, 'C':100, 'D':500, 'M':1000}\n",
    "        pre_scale = num = 0\n",
    "        for i in range(len(s)-1,-1,-1):  # reverse rule\n",
    "            if dicta[s[i]] >= pre_scale: \n",
    "                num += dicta[s[i]]\n",
    "            else:\n",
    "                num -= dicta[s[i]]\n",
    "            pre_scale = dicta[s[i]]\n",
    "        return num\n",
    "    \n",
    "print(romanToInt('III'))"
   ]
  },
  {
   "cell_type": "markdown",
   "metadata": {},
   "source": [
    "### 14. Longest Common Prefix "
   ]
  },
  {
   "cell_type": "markdown",
   "metadata": {},
   "source": [
    "Write a function to find the longest common prefix string amongst an array of strings.\n",
    "\n",
    "If there is no common prefix, return an empty string \"\"."
   ]
  },
  {
   "cell_type": "code",
   "execution_count": 42,
   "metadata": {},
   "outputs": [
    {
     "name": "stdout",
     "output_type": "stream",
     "text": [
      "\n"
     ]
    }
   ],
   "source": [
    "def longestCommonPrefix(strs):\n",
    "        \"\"\"\n",
    "        :type strs: List[str]\n",
    "        :rtype: str\n",
    "        \"\"\"\n",
    "        if not strs:\n",
    "            return ''\n",
    "        prefix = min(strs, key=len)\n",
    "        for i, char in enumerate(prefix):\n",
    "            for j in range(len(strs)):\n",
    "                if strs[j][i] != char:\n",
    "                    return prefix[:i]\n",
    "        return prefix\n",
    "    \n",
    "print(longestCommonPrefix([\"dog\",\"racecar\",\"car\"]))"
   ]
  },
  {
   "cell_type": "code",
   "execution_count": 60,
   "metadata": {},
   "outputs": [
    {
     "name": "stdout",
     "output_type": "stream",
     "text": [
      "fl\n"
     ]
    }
   ],
   "source": [
    "def longestCommonPrefix(strs):\n",
    "        \"\"\"\n",
    "        :type strs: List[str]\n",
    "        :rtype: str\n",
    "        \"\"\"\n",
    "        if not strs:\n",
    "            return '' \n",
    "            \n",
    "        max_idx, res = min([len(s) for s in strs]), ''\n",
    "        if max_idx == 0:\n",
    "            return ''\n",
    "        else:\n",
    "            for i in range(max_idx):  # from the first character, verify all words if they have this character\n",
    "                temp = strs[0][i]\n",
    "                for j in range(1, len(strs)):\n",
    "                    if temp != strs[j][i]:\n",
    "                        return res\n",
    "                res += temp\n",
    "            return res\n",
    "                    \n",
    "\n",
    "print(longestCommonPrefix([\"flow\",\"flower\",\"flee\"]))"
   ]
  },
  {
   "cell_type": "markdown",
   "metadata": {},
   "source": [
    "### 28. Implement strStr() "
   ]
  },
  {
   "cell_type": "markdown",
   "metadata": {},
   "source": [
    "Implement strStr().\n",
    "\n",
    "Return the index of the first occurrence of needle in haystack, or -1 if needle is not part of haystack.\n",
    "\n",
    "example\n",
    "\n",
    "Input: haystack = \"hello\", needle = \"ll\"\n",
    "\n",
    "Output: 2\n",
    "\n",
    "What should we return when needle is an empty string? This is a great question to ask during an interview.\n",
    "\n",
    "For the purpose of this problem, we will return 0 when needle is an empty string."
   ]
  },
  {
   "cell_type": "code",
   "execution_count": 73,
   "metadata": {},
   "outputs": [
    {
     "name": "stdout",
     "output_type": "stream",
     "text": [
      "-1\n"
     ]
    }
   ],
   "source": [
    "def strStr(haystack, needle):\n",
    "        \"\"\"\n",
    "        :type haystack: str\n",
    "        :type needle: str\n",
    "        :rtype: int\n",
    "        \"\"\"\n",
    "        if not needle:\n",
    "            return 0\n",
    "        else:\n",
    "            for i in range(len(haystack)):\n",
    "                if haystack[i] == needle[0] and len(haystack[i:]) >= len(needle): # 说明i 无需遍历完所有长度\n",
    "                    if haystack[i:i+len(needle)] == needle: #无需两次判断，一次全部判断即可\n",
    "                        return i\n",
    "            return -1\n",
    "\n",
    "print(strStr(\"aaaaa\", \"bba\"))"
   ]
  },
  {
   "cell_type": "code",
   "execution_count": 75,
   "metadata": {},
   "outputs": [
    {
     "name": "stdout",
     "output_type": "stream",
     "text": [
      "3\n"
     ]
    }
   ],
   "source": [
    "def strStr(haystack, needle):\n",
    "        \"\"\"\n",
    "        :type haystack: str\n",
    "        :type needle: str\n",
    "        :rtype: int\n",
    "        \"\"\"\n",
    "        if not needle:\n",
    "            return 0\n",
    "        else:\n",
    "            for i in range(len(haystack)-len(needle)+1):s\n",
    "                if haystack[i:i+len(needle)] == needle:\n",
    "                    return i\n",
    "            return -1\n",
    "\n",
    "print(strStr(\"hello\", \"lo\"))"
   ]
  },
  {
   "cell_type": "code",
   "execution_count": null,
   "metadata": {},
   "outputs": [],
   "source": []
  }
 ],
 "metadata": {
  "kernelspec": {
   "display_name": "Python 3",
   "language": "python",
   "name": "python3"
  },
  "language_info": {
   "codemirror_mode": {
    "name": "ipython",
    "version": 3
   },
   "file_extension": ".py",
   "mimetype": "text/x-python",
   "name": "python",
   "nbconvert_exporter": "python",
   "pygments_lexer": "ipython3",
   "version": "3.6.1"
  }
 },
 "nbformat": 4,
 "nbformat_minor": 2
}
