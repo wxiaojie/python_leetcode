{
 "cells": [
  {
   "cell_type": "markdown",
   "metadata": {},
   "source": [
    "### 9. Palindrome Number "
   ]
  },
  {
   "cell_type": "markdown",
   "metadata": {},
   "source": [
    "Determine whether an integer is a palindrome. An integer is a palindrome when it reads the same backward as forward."
   ]
  },
  {
   "cell_type": "code",
   "execution_count": 8,
   "metadata": {},
   "outputs": [
    {
     "name": "stdout",
     "output_type": "stream",
     "text": [
      "False\n"
     ]
    }
   ],
   "source": [
    "def isPalindrome(x):\n",
    "    \"\"\"\n",
    "    :type x: int\n",
    "    :rtype: bool\n",
    "    \"\"\"\n",
    "    list_x = str(x)\n",
    "    return list_x == list_x[::-1]\n",
    "\n",
    "print(isPalindrome(-121))"
   ]
  },
  {
   "cell_type": "code",
   "execution_count": 13,
   "metadata": {},
   "outputs": [
    {
     "name": "stdout",
     "output_type": "stream",
     "text": [
      "False\n"
     ]
    }
   ],
   "source": [
    "def isPalindrome(x):  # reverse number directly\n",
    "    \"\"\"\n",
    "    :type x: int\n",
    "    :rtype: bool\n",
    "    \"\"\"\n",
    "    if x < 0:\n",
    "        return False\n",
    "    res, p = 0, x\n",
    "    while p>0:\n",
    "        res = res * 10 + p % 10\n",
    "        p = p//10\n",
    "    return res == x\n",
    "\n",
    "print(isPalindrome(123))"
   ]
  },
  {
   "cell_type": "markdown",
   "metadata": {},
   "source": [
    "### 172. Factorial Trailing Zeroes "
   ]
  },
  {
   "cell_type": "markdown",
   "metadata": {},
   "source": [
    "Given an integer n, return the number of trailing zeroes(尾随0） in n!."
   ]
  },
  {
   "cell_type": "code",
   "execution_count": 20,
   "metadata": {},
   "outputs": [
    {
     "name": "stdout",
     "output_type": "stream",
     "text": [
      "7\n"
     ]
    }
   ],
   "source": [
    "def trailingZeroes(n):\n",
    "    \"\"\"\n",
    "    :type n: int\n",
    "    :rtype: int\n",
    "    \"\"\"\n",
    "    res = 0\n",
    "    while n:\n",
    "        n = n // 5\n",
    "        res += n\n",
    "    return res\n",
    "\n",
    "print(trailingZeroes(30))"
   ]
  },
  {
   "cell_type": "markdown",
   "metadata": {},
   "source": [
    "### 263. Ugly Number "
   ]
  },
  {
   "cell_type": "markdown",
   "metadata": {},
   "source": [
    "Write a program to check whether a given number is an ugly number.\n",
    "\n",
    "Ugly numbers are positive numbers whose prime factors only include 2, 3, 5."
   ]
  },
  {
   "cell_type": "code",
   "execution_count": 23,
   "metadata": {},
   "outputs": [
    {
     "name": "stdout",
     "output_type": "stream",
     "text": [
      "True\n"
     ]
    }
   ],
   "source": [
    "def isUgly(num):\n",
    "        \"\"\"\n",
    "        :type num: int\n",
    "        :rtype: bool\n",
    "        \"\"\"\n",
    "        if num < 1:\n",
    "            return False\n",
    "        while num % 2 == 0:\n",
    "            num = num // 2\n",
    "        while num % 3 == 0:\n",
    "            num = num // 3\n",
    "        while num % 5 == 0:\n",
    "            num = num // 5\n",
    "        return num == 1\n",
    "    \n",
    "print(isUgly(10))   "
   ]
  },
  {
   "cell_type": "code",
   "execution_count": 1,
   "metadata": {},
   "outputs": [],
   "source": [
    "def isUgly(num):\n",
    "        \"\"\"\n",
    "        :type num: int\n",
    "        :rtype: bool\n",
    "        \"\"\"\n",
    "        if num < 1:\n",
    "            return False\n",
    "        while num % 2 == 0:\n",
    "            num = num // 2\n",
    "        while num % 3 == 0:\n",
    "            num = num // 3\n",
    "        while num % 5 == 0:\n",
    "            num = num // 5\n",
    "        return num == 1"
   ]
  },
  {
   "cell_type": "markdown",
   "metadata": {},
   "source": [
    "### 887. Projection Area of 3D Shapes "
   ]
  },
  {
   "cell_type": "markdown",
   "metadata": {},
   "source": [
    "On a N * N grid, we place some 1 * 1 * 1 cubes that are axis-aligned with the x, y, and z axes.\n",
    "\n",
    "Each value v = grid[i][j] represents a tower of v cubes placed on top of grid cell (i, j).\n",
    "\n",
    "Now we view the projection of these cubes onto the xy, yz, and zx planes.\n",
    "\n",
    "A projection is like a shadow, that maps our 3 dimensional figure to a 2 dimensional plane. \n",
    "\n",
    "Here, we are viewing the \"shadow\" when looking at the cubes from the top, the front, and the side.\n",
    "\n",
    "Return the total area of all three projections.\n",
    "\n",
    "#### Idea:\n",
    "top: 1 for non-zero grid cell\n",
    "\n",
    "front: largest value in each column\n",
    "\n",
    "side: largest value in each row"
   ]
  },
  {
   "cell_type": "code",
   "execution_count": 9,
   "metadata": {},
   "outputs": [
    {
     "name": "stdout",
     "output_type": "stream",
     "text": [
      "5\n"
     ]
    }
   ],
   "source": [
    "def projectionArea(grid):\n",
    "        \"\"\"\n",
    "        :type grid: List[List[int]]\n",
    "        :rtype: int\n",
    "        \"\"\"\n",
    "        res = 0\n",
    "        front = [0]*len(grid[0])\n",
    "        for r in range(len(grid)):\n",
    "            res += max(grid[r])\n",
    "            for c in range(len(grid[r])):\n",
    "                if grid[r][c] > front[c]:\n",
    "                    front[c] = grid[r][c]\n",
    "                if grid[r][c] != 0:\n",
    "                    res += 1\n",
    "        res += sum(front)\n",
    "        return res\n",
    "\n",
    "grid = [[2]]\n",
    "print(projectionArea(grid))"
   ]
  },
  {
   "cell_type": "markdown",
   "metadata": {},
   "source": [
    "### 812. Largest Triangle Area "
   ]
  },
  {
   "cell_type": "markdown",
   "metadata": {},
   "source": [
    "You have a list of points in the plane. Return the area of the largest triangle that can be formed by any 3 of the points.\n",
    "\n",
    "#### Idea:\n",
    "https://leetcode.com/problems/largest-triangle-area/solution/\n",
    "\n",
    "brute force (Shoelace formula )"
   ]
  },
  {
   "cell_type": "code",
   "execution_count": 11,
   "metadata": {},
   "outputs": [
    {
     "name": "stdout",
     "output_type": "stream",
     "text": [
      "2.0\n"
     ]
    }
   ],
   "source": [
    "def largestTriangleArea(points):\n",
    "        \"\"\"\n",
    "        :type points: List[List[int]]\n",
    "        :rtype: float\n",
    "        \"\"\"\n",
    "        areas = []\n",
    "        for i in range(len(points)):\n",
    "            for j in range(i+1,len(points)):\n",
    "                for k in range(j+1, len(points)):\n",
    "                    areas.append(getArea(points[i],points[j],points[k]))\n",
    "        return max(areas)\n",
    "    \n",
    "def getArea(a, b, c):\n",
    "    return 0.5 * abs(a[0]*b[1]-a[0]*c[1] + b[0]*c[1]-b[0]*a[1] + c[0]*a[1]-c[0]*b[1])\n",
    "            \n",
    "\n",
    "points = [[0,0],[0,1],[1,0],[0,2],[2,0]]\n",
    "print(largestTriangleArea(points))"
   ]
  },
  {
   "cell_type": "markdown",
   "metadata": {},
   "source": [
    "### 258. Add Digits "
   ]
  },
  {
   "cell_type": "markdown",
   "metadata": {},
   "source": [
    "Given a non-negative integer num, repeatedly add all its digits until the result has only one digit.\n",
    "\n",
    "#### Follow up:\n",
    "Could you do it without any loop/recursion in O(1) runtime?\n",
    "\n",
    "a tricky solution: https://leetcode.com/problems/add-digits/discuss/68667/Simple-Java-Solution-No-recursion-loop"
   ]
  },
  {
   "cell_type": "code",
   "execution_count": 25,
   "metadata": {},
   "outputs": [
    {
     "name": "stdout",
     "output_type": "stream",
     "text": [
      "0\n"
     ]
    }
   ],
   "source": [
    "def addDigits(num):\n",
    "        \"\"\"\n",
    "        :type num: int\n",
    "        :rtype: int\n",
    "        \"\"\"\n",
    "        if not num:\n",
    "            return num\n",
    "        while num:\n",
    "            temp_res = add(num)\n",
    "            if len(str(temp_res)) == 1:\n",
    "                return temp_res\n",
    "            num = temp_res\n",
    "        \n",
    "def add(num):\n",
    "    num_sum = 0\n",
    "    for i in str(num):\n",
    "        num_sum += int(i)\n",
    "    return num_sum\n",
    "\n",
    "print(addDigits(0))"
   ]
  },
  {
   "cell_type": "code",
   "execution_count": 24,
   "metadata": {},
   "outputs": [
    {
     "name": "stdout",
     "output_type": "stream",
     "text": [
      "0\n"
     ]
    }
   ],
   "source": [
    "def addDigits(num):\n",
    "        \"\"\"\n",
    "        :type num: int\n",
    "        :rtype: int\n",
    "        \"\"\"\n",
    "        if not num:\n",
    "            return num\n",
    "        elif num % 9:\n",
    "            return num % 9\n",
    "        else:\n",
    "            return 9"
   ]
  },
  {
   "cell_type": "code",
   "execution_count": null,
   "metadata": {},
   "outputs": [],
   "source": []
  }
 ],
 "metadata": {
  "kernelspec": {
   "display_name": "Python 3",
   "language": "python",
   "name": "python3"
  },
  "language_info": {
   "codemirror_mode": {
    "name": "ipython",
    "version": 3
   },
   "file_extension": ".py",
   "mimetype": "text/x-python",
   "name": "python",
   "nbconvert_exporter": "python",
   "pygments_lexer": "ipython3",
   "version": "3.6.1"
  }
 },
 "nbformat": 4,
 "nbformat_minor": 2
}
