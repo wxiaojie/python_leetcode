{
 "cells": [
  {
   "cell_type": "markdown",
   "metadata": {},
   "source": [
    "### 66. Plus One "
   ]
  },
  {
   "cell_type": "markdown",
   "metadata": {},
   "source": [
    "Given a non-empty array of digits representing a non-negative integer, plus one to the integer.\n",
    "\n",
    "The digits are stored such that the most significant digit is at the head of the list, and each element in the array contain a single digit.\n",
    "\n",
    "You may assume the integer does not contain any leading zero, except the number 0 itself."
   ]
  },
  {
   "cell_type": "code",
   "execution_count": 30,
   "metadata": {},
   "outputs": [
    {
     "name": "stdout",
     "output_type": "stream",
     "text": [
      "[1, 2, 4]\n"
     ]
    }
   ],
   "source": [
    "def plusOne(digits):\n",
    "        \"\"\"\n",
    "        :type digits: List[int]\n",
    "        :rtype: List[int]\n",
    "        \"\"\"\n",
    "        if len(digits)==1 and digits[0]==9:\n",
    "            return[1,0]\n",
    "        elif digits[-1] != 9:\n",
    "            digits[-1] = digits[-1] +1\n",
    "            return digits\n",
    "        else:\n",
    "            digits[-1] = digits[-1]+1\n",
    "            digits[:-1] = plusOne(digits[:-1])\n",
    "            return digits\n",
    "            \n",
    "        \n",
    "print(plusOne([1,2,3]))"
   ]
  },
  {
   "cell_type": "code",
   "execution_count": 32,
   "metadata": {},
   "outputs": [
    {
     "name": "stdout",
     "output_type": "stream",
     "text": [
      "[1, 2, 4]\n"
     ]
    }
   ],
   "source": [
    "def plusOne(digits):\n",
    "        \"\"\"\n",
    "        :type digits: List[int]\n",
    "        :rtype: List[int]\n",
    "        \"\"\"\n",
    "        i = len(digits)-1\n",
    "        while digits[i] == 9 and i>=0:\n",
    "            digits[i] = 0\n",
    "            i -= 1\n",
    "        if i <0:\n",
    "            return [1] + digits\n",
    "        else:\n",
    "            digits[i] += 1\n",
    "            return digits\n",
    "            \n",
    "print(plusOne([1,2,3]))"
   ]
  },
  {
   "cell_type": "code",
   "execution_count": 31,
   "metadata": {},
   "outputs": [
    {
     "data": {
      "text/plain": [
       "[1, 2, 3]"
      ]
     },
     "execution_count": 31,
     "metadata": {},
     "output_type": "execute_result"
    }
   ],
   "source": [
    "[1] + [2,3]"
   ]
  },
  {
   "cell_type": "markdown",
   "metadata": {},
   "source": [
    "### 119. Pascal's Triangle II "
   ]
  },
  {
   "cell_type": "markdown",
   "metadata": {},
   "source": [
    "Given a non-negative index k where k ≤ 33, return the kth index row of the Pascal's triangle.\n",
    "\n",
    "Note that the row index starts from 0.\n",
    "\n",
    "In Pascal's triangle, each number is the sum of the two numbers directly above it."
   ]
  },
  {
   "cell_type": "code",
   "execution_count": 5,
   "metadata": {},
   "outputs": [
    {
     "name": "stdout",
     "output_type": "stream",
     "text": [
      "[1, 5, 10, 10, 5, 1]\n"
     ]
    }
   ],
   "source": [
    "def getRow(rowIndex):\n",
    "        \"\"\"\n",
    "        :type rowIndex: int\n",
    "        :rtype: List[int]\n",
    "        \"\"\"\n",
    "        if rowIndex == 0:\n",
    "            row_index = [1]\n",
    "        elif rowIndex == 1:\n",
    "            row_index = [1,1]\n",
    "        else:\n",
    "            temp = rowIndex\n",
    "            row_index = [1, temp]\n",
    "            for i in range(2, rowIndex +1):\n",
    "                temp = temp * (rowIndex + 1 - i) // i\n",
    "                row_index.append(temp)\n",
    "        return row_index\n",
    "    \n",
    "print(getRow(5))"
   ]
  },
  {
   "cell_type": "code",
   "execution_count": 12,
   "metadata": {},
   "outputs": [
    {
     "name": "stdout",
     "output_type": "stream",
     "text": [
      "[1, 4, 6, 4, 1]\n"
     ]
    }
   ],
   "source": [
    "def getRow(rowIndex):\n",
    "        \"\"\"\n",
    "        :type rowIndex: int\n",
    "        :rtype: List[int]\n",
    "        \"\"\"\n",
    "        if rowIndex == 0:\n",
    "            row_index = [1]\n",
    "        else:\n",
    "            row_index = [1]\n",
    "            for i in range(1, rowIndex //2 +1):\n",
    "                temp = row_index[i-1] * (rowIndex + 1 - i) // i\n",
    "                row_index.append(temp)\n",
    "            if rowIndex%2 == 0:\n",
    "                row_index = row_index + row_index[:-1][::-1]\n",
    "            else:\n",
    "                row_index = row_index + row_index[::-1]\n",
    "        return row_index\n",
    "    \n",
    "print(getRow(4))"
   ]
  },
  {
   "cell_type": "markdown",
   "metadata": {},
   "source": [
    "### 189. Rotate Array"
   ]
  },
  {
   "cell_type": "markdown",
   "metadata": {},
   "source": [
    "Given an array, rotate the array to the right by k steps, where k is non-negative.\n",
    "\n",
    "Do not return anything, modify nums in-place instead."
   ]
  },
  {
   "cell_type": "code",
   "execution_count": 16,
   "metadata": {},
   "outputs": [
    {
     "name": "stdout",
     "output_type": "stream",
     "text": [
      "[5, 6, 1, 2, 3, 4]\n"
     ]
    }
   ],
   "source": [
    "def rotate(nums, k):\n",
    "        \"\"\"\n",
    "        :type nums: List[int]\n",
    "        :type k: int\n",
    "        :rtype: void Do not return anything, modify nums in-place instead.\n",
    "        \"\"\"\n",
    "        while k>0:\n",
    "            nums = [nums[-1]] + nums[:-1]\n",
    "            k -= 1\n",
    "        return nums\n",
    "    \n",
    "print(rotate([1,2,3,4,5,6],2))"
   ]
  },
  {
   "cell_type": "code",
   "execution_count": 31,
   "metadata": {},
   "outputs": [
    {
     "name": "stdout",
     "output_type": "stream",
     "text": [
      "[2, 1]\n"
     ]
    }
   ],
   "source": [
    "def rotate(nums, k): \n",
    "        \"\"\"\n",
    "        :type nums: List[int]\n",
    "        :type k: int\n",
    "        :rtype: void Do not return anything, modify nums in-place instead.\n",
    "        \"\"\"\n",
    "        while k>=len(nums):\n",
    "            k = k - len(nums)\n",
    "        if k==0:\n",
    "            return nums\n",
    "        else:\n",
    "            temp = nums[-k:]\n",
    "            nums[-(len(nums)-k):] = nums[:(len(nums)-k)]\n",
    "            nums[:k] = temp\n",
    "            return nums\n",
    "    \n",
    "print(rotate([1,2],3))"
   ]
  },
  {
   "cell_type": "code",
   "execution_count": 34,
   "metadata": {},
   "outputs": [
    {
     "name": "stdout",
     "output_type": "stream",
     "text": [
      "[4, 5, 6, 1, 2, 3]\n"
     ]
    }
   ],
   "source": [
    "def rotate(nums, k): \n",
    "        \"\"\"\n",
    "        :type nums: List[int]\n",
    "        :type k: int\n",
    "        :rtype: void Do not return anything, modify nums in-place instead.\n",
    "        \"\"\"\n",
    "        while k>=len(nums):\n",
    "            k = k - len(nums)\n",
    "        if k==0:\n",
    "            return nums\n",
    "        else:\n",
    "            nums[:k],nums[k:] = nums[-k:],nums[:(len(nums)-k)]\n",
    "            return nums\n",
    "    \n",
    "print(rotate([1,2,3,4,5,6],3))"
   ]
  },
  {
   "cell_type": "markdown",
   "metadata": {},
   "source": [
    "### 283. Move Zeroes "
   ]
  },
  {
   "cell_type": "markdown",
   "metadata": {},
   "source": [
    "Given an array nums, write a function to move all 0's to the end of it while maintaining the relative order of the non-zero elements."
   ]
  },
  {
   "cell_type": "code",
   "execution_count": 39,
   "metadata": {},
   "outputs": [
    {
     "name": "stdout",
     "output_type": "stream",
     "text": [
      "[1, 3, 12, 0, 0]\n"
     ]
    }
   ],
   "source": [
    "def moveZeroes(nums):\n",
    "    \"\"\"\n",
    "    :type nums: List[int]\n",
    "    :rtype: void Do not return anything, modify nums in-place instead.\n",
    "    \"\"\"\n",
    "    num_zero = 0\n",
    "    for i in range(len(nums)):\n",
    "        if nums[i] == 0:\n",
    "            num_zero += 1\n",
    "        else:\n",
    "            if num_zero > 0:\n",
    "                nums[i-num_zero] = nums[i]\n",
    "    if num_zero > 0:\n",
    "        nums[-num_zero:]=[0]*num_zero\n",
    "    return nums\n",
    "        \n",
    "print(moveZeroes([0,1,0,3,12]))"
   ]
  },
  {
   "cell_type": "markdown",
   "metadata": {},
   "source": [
    " "
   ]
  },
  {
   "cell_type": "markdown",
   "metadata": {},
   "source": [
    "### 766. Toeplitz Matrix "
   ]
  },
  {
   "cell_type": "markdown",
   "metadata": {},
   "source": [
    "A matrix is Toeplitz if every diagonal from top-left to bottom-right has the same element.\n",
    "\n",
    "Now given an M x N matrix, return True if and only if the matrix is Toeplitz.\n",
    "\n",
    "#### Follow up:\n",
    "\n",
    "What if the matrix is stored on disk, and the memory is limited such that you can only load at most one row of the matrix into the memory at once?\n",
    "\n",
    "What if the matrix is so large that you can only load up a partial row into the memory at once?\n",
    "\n",
    "#### Idea:\n",
    "1. group by diagnal: what elements are in diagonal? For (r1, c1) and (r2, c2), if r1-c1 == r2 - c2, then they are in the same diagonal.  space: O(m * n), time: O(m*n)\n",
    "\n",
    "2. space O(1), time O(m*n), just compare with its top-left element except for the first element of each diagonal"
   ]
  },
  {
   "cell_type": "code",
   "execution_count": 2,
   "metadata": {},
   "outputs": [
    {
     "name": "stdout",
     "output_type": "stream",
     "text": [
      "True\n",
      "False\n"
     ]
    }
   ],
   "source": [
    "def isToeplitzMatrix(matrix):\n",
    "        \"\"\"\n",
    "        :type matrix: List[List[int]]\n",
    "        :rtype: bool\n",
    "        \"\"\"\n",
    "        m = len(matrix)\n",
    "        n = len(matrix[0])\n",
    "        dictd = {}\n",
    "        for i in range(m):\n",
    "            for j in range(n):\n",
    "                group = i - j\n",
    "                if group not in dictd:\n",
    "                    dictd[group] = matrix[i][j]\n",
    "                else:\n",
    "                    if dictd[group] != matrix[i][j]:\n",
    "                        return False\n",
    "        return True\n",
    "\n",
    "matrix1 = [[1,2,3,4],[5,1,2,3],[9,5,1,2]]\n",
    "matrix2 = matrix = [[1,2],[2,2]]\n",
    "print(isToeplitzMatrix(matrix1))\n",
    "print(isToeplitzMatrix(matrix2))"
   ]
  },
  {
   "cell_type": "code",
   "execution_count": 4,
   "metadata": {},
   "outputs": [
    {
     "name": "stdout",
     "output_type": "stream",
     "text": [
      "True\n",
      "False\n"
     ]
    }
   ],
   "source": [
    "def isToeplitzMatrix(matrix):\n",
    "        \"\"\"\n",
    "        :type matrix: List[List[int]]\n",
    "        :rtype: bool\n",
    "        \"\"\"\n",
    "        m = len(matrix)\n",
    "        n = len(matrix[0])\n",
    "        for i in range(m):\n",
    "            for j in range(n):\n",
    "                if i != 0 and j !=0 and matrix[i-1][j-1] != matrix[i][j]:\n",
    "                    return False\n",
    "        return True\n",
    "    \n",
    "matrix1 = [[1,2,3,4],[5,1,2,3],[9,5,1,2]]\n",
    "matrix2 = matrix = [[1,2],[2,2]]\n",
    "print(isToeplitzMatrix(matrix1))\n",
    "print(isToeplitzMatrix(matrix2))"
   ]
  },
  {
   "cell_type": "markdown",
   "metadata": {},
   "source": [
    "### 566. Reshape the Matrix "
   ]
  },
  {
   "cell_type": "markdown",
   "metadata": {},
   "source": [
    "In MATLAB, there is a very useful function called 'reshape', which can reshape a matrix into a new one with different size but keep its original data.\n",
    "\n",
    "You're given a matrix represented by a two-dimensional array, and two positive integers r and c representing the row number and column number of the wanted reshaped matrix, respectively.\n",
    "\n",
    "The reshaped matrix need to be filled with all the elements of the original matrix in the same row-traversing order as they were.\n",
    "\n",
    "If the 'reshape' operation with given parameters is possible and legal, output the new reshaped matrix; Otherwise, output the original matrix."
   ]
  },
  {
   "cell_type": "code",
   "execution_count": 9,
   "metadata": {},
   "outputs": [
    {
     "name": "stdout",
     "output_type": "stream",
     "text": [
      "[1, 2, 3, 4]\n",
      "[[1, 2, 3, 4]]\n"
     ]
    }
   ],
   "source": [
    "def matrixReshape(nums, r, c):  # 2*O(m*n)\n",
    "        \"\"\"\n",
    "        :type nums: List[List[int]]\n",
    "        :type r: int\n",
    "        :type c: int\n",
    "        :rtype: List[List[int]]\n",
    "        \"\"\"\n",
    "        if len(nums) * len(nums[0]) != r * c:\n",
    "            return nums\n",
    "        numbers = []\n",
    "        for i in range(len(nums)):\n",
    "            for j in range(len(nums[i])):\n",
    "                numbers.append(nums[i][j])\n",
    "        print(numbers)\n",
    "        res = [numbers[i * c : (i+1)*c] for i in range(r)]\n",
    "        return res\n",
    "    \n",
    "nums = [[1,2],[3,4]]\n",
    "r = 1\n",
    "c = 4\n",
    "print(matrixReshape(nums, r, c))"
   ]
  },
  {
   "cell_type": "code",
   "execution_count": 1,
   "metadata": {},
   "outputs": [
    {
     "name": "stdout",
     "output_type": "stream",
     "text": [
      "[[1, 2, 3, 4]]\n"
     ]
    }
   ],
   "source": [
    "def matrixReshape(nums, r, c):\n",
    "        \"\"\"\n",
    "        :type nums: List[List[int]]\n",
    "        :type r: int\n",
    "        :type c: int\n",
    "        :rtype: List[List[int]]\n",
    "        \"\"\"\n",
    "        if len(nums) * len(nums[0]) != r * c:\n",
    "            return nums\n",
    "        res = []\n",
    "        temp = []\n",
    "        count_c = 0\n",
    "        for i in range(len(nums)):\n",
    "            for j in range(len(nums[i])):\n",
    "                temp.append(nums[i][j])\n",
    "                count_c += 1\n",
    "                if count_c == c:\n",
    "                    res.append(temp)\n",
    "                    count_c = 0\n",
    "                    temp = []\n",
    "        return res\n",
    "    \n",
    "nums = [[1,2],[3,4]]\n",
    "r = 1\n",
    "c = 4\n",
    "print(matrixReshape(nums, r, c))"
   ]
  },
  {
   "cell_type": "markdown",
   "metadata": {},
   "source": [
    "### 485. Max Consecutive Ones "
   ]
  },
  {
   "cell_type": "markdown",
   "metadata": {},
   "source": [
    "Given a binary array, find the maximum number of consecutive 1s in this array."
   ]
  },
  {
   "cell_type": "code",
   "execution_count": 3,
   "metadata": {},
   "outputs": [
    {
     "name": "stdout",
     "output_type": "stream",
     "text": [
      "3\n"
     ]
    }
   ],
   "source": [
    "def findMaxConsecutiveOnes(nums):\n",
    "        \"\"\"\n",
    "        :type nums: List[int]\n",
    "        :rtype: int\n",
    "        \"\"\"\n",
    "        max_n = 0\n",
    "        temp = 0\n",
    "        for i in nums:\n",
    "            if i==1:\n",
    "                temp += 1\n",
    "            else:\n",
    "                if temp > max_n:\n",
    "                    max_n = temp\n",
    "                temp = 0\n",
    "        if temp > max_n:\n",
    "            max_n = temp\n",
    "        return max_n\n",
    "    \n",
    "print(findMaxConsecutiveOnes([1,1,0,1,1,1]))"
   ]
  },
  {
   "cell_type": "markdown",
   "metadata": {},
   "source": [
    "### 695. Max Area of Island"
   ]
  },
  {
   "cell_type": "markdown",
   "metadata": {},
   "source": [
    "Given a non-empty 2D array grid of 0's and 1's, an island is a group of 1's (representing land) connected 4-directionally (horizontal or vertical.) You may assume all four edges of the grid are surrounded by water.\n",
    "\n",
    "Find the maximum area of an island in the given 2D array. (If there is no island, the maximum area is 0.)\n",
    "\n",
    "#### Idea\n",
    "DFS, 依次遍历，每遇到一个1，再遍历1周围的4个值，不能重复计算（计算一次后置为0）"
   ]
  },
  {
   "cell_type": "code",
   "execution_count": 7,
   "metadata": {},
   "outputs": [
    {
     "name": "stdout",
     "output_type": "stream",
     "text": [
      "0\n"
     ]
    }
   ],
   "source": [
    "def maxAreaOfIsland(grid):\n",
    "        m, n = len(grid), len(grid[0])\n",
    "        def dfs(i, j):\n",
    "            if 0 <= i < m and 0 <= j <n and grid[i][j]:\n",
    "                grid[i][j] = 0\n",
    "                return 1 + dfs(i-1, j) + dfs(i+1, j) + dfs(i,j-1) + dfs(i, j+1)\n",
    "            else:\n",
    "                return 0\n",
    "            \n",
    "        areas = [dfs(i, j) for i in range(m) for j in range(n) if grid[i][j]]\n",
    "        return max(areas) if areas else 0\n",
    "    \n",
    "print(maxAreaOfIsland([[0,0,0,0,0,0,0,0]]))"
   ]
  },
  {
   "cell_type": "code",
   "execution_count": 6,
   "metadata": {},
   "outputs": [],
   "source": [
    "areas = []\n",
    "if areas:\n",
    "    print(True)"
   ]
  },
  {
   "cell_type": "code",
   "execution_count": null,
   "metadata": {},
   "outputs": [],
   "source": []
  }
 ],
 "metadata": {
  "kernelspec": {
   "display_name": "Python 3",
   "language": "python",
   "name": "python3"
  },
  "language_info": {
   "codemirror_mode": {
    "name": "ipython",
    "version": 3
   },
   "file_extension": ".py",
   "mimetype": "text/x-python",
   "name": "python",
   "nbconvert_exporter": "python",
   "pygments_lexer": "ipython3",
   "version": "3.6.1"
  }
 },
 "nbformat": 4,
 "nbformat_minor": 2
}
