{
 "cells": [
  {
   "cell_type": "markdown",
   "metadata": {},
   "source": [
    "### 198. House Robber "
   ]
  },
  {
   "cell_type": "markdown",
   "metadata": {},
   "source": [
    "You are a professional robber planning to rob houses along a street. Each house has a certain amount of money stashed, the only constraint stopping you from robbing each of them is that adjacent houses have security system connected and it will automatically contact the police if two adjacent houses were broken into on the same night.\n",
    "\n",
    "Given a list of non-negative integers representing the amount of money of each house, determine the maximum amount of money you can rob tonight without alerting the police."
   ]
  },
  {
   "cell_type": "markdown",
   "metadata": {},
   "source": [
    "Idea:\n",
    "状态i偷与不偷取决于 max((state(i-1),偷）的值，(state(i-2),偷）+ 当前值）"
   ]
  },
  {
   "cell_type": "code",
   "execution_count": 6,
   "metadata": {},
   "outputs": [
    {
     "name": "stdout",
     "output_type": "stream",
     "text": [
      "12\n",
      "4\n"
     ]
    }
   ],
   "source": [
    "def rob(nums):\n",
    "        \"\"\"\n",
    "        :type nums: List[int]\n",
    "        :rtype: int\n",
    "        \"\"\"\n",
    "        if len(nums) == 0:\n",
    "            return 0\n",
    "        if len(nums) == 1:\n",
    "            return nums[0]\n",
    "        \n",
    "        dp = [0]*len(nums)\n",
    "        dp[0]=nums[0]\n",
    "        dp[1]=max(nums[0],nums[1])\n",
    "        for i in range(2, len(nums)):\n",
    "            dp[i] = max(dp[i-1], dp[i-2]+nums[i])\n",
    "        return dp[-1]\n",
    "    \n",
    "print(rob([2,7,9,3,1]))\n",
    "print(rob([1,2,3,1]))"
   ]
  },
  {
   "cell_type": "markdown",
   "metadata": {},
   "source": [
    "### 121. Best Time to Buy and Sell Stock "
   ]
  },
  {
   "cell_type": "markdown",
   "metadata": {},
   "source": [
    "Say you have an array for which the ith element is the price of a given stock on day i.\n",
    "\n",
    "If you were only permitted to complete at most one transaction (i.e., buy one and sell one share of the stock), design an algorithm to find the maximum profit.\n",
    "\n",
    "Note that you cannot sell a stock before you buy one."
   ]
  },
  {
   "cell_type": "code",
   "execution_count": 10,
   "metadata": {},
   "outputs": [
    {
     "name": "stdout",
     "output_type": "stream",
     "text": [
      "5\n"
     ]
    }
   ],
   "source": [
    "def maxProfit(prices):\n",
    "        \"\"\"\n",
    "        :type prices: List[int]\n",
    "        :rtype: int\n",
    "        \"\"\"\n",
    "        max_profit, min_price = 0, float('inf')\n",
    "        for price in prices:\n",
    "            min_price = min(price, min_price)\n",
    "            profit = price - min_price\n",
    "            max_profit = max(profit, max_profit)\n",
    "        return max_profit\n",
    "    \n",
    "print(maxProfit([7,1,5,3,6,4]))"
   ]
  },
  {
   "cell_type": "code",
   "execution_count": 11,
   "metadata": {},
   "outputs": [],
   "source": [
    "# DP: Key observation: prices[2] - prices[0] = prices[2] - prices[1] + prices[1] - prices[0]\n",
    "def maxProfit(prices):   \n",
    "        \"\"\"\n",
    "        :type prices: List[int]\n",
    "        :rtype: int\n",
    "        \"\"\"\n",
    "        temp, max_profit = 0, 0\n",
    "        for i in range(1, len(prices)):\n",
    "            temp += prices[i] - prices[i-1]\n",
    "            if temp < 0:\n",
    "                temp = 0\n",
    "            elif temp > max_profit:\n",
    "                max_profit = temp\n",
    "        return max_profit"
   ]
  },
  {
   "cell_type": "markdown",
   "metadata": {},
   "source": [
    "### 求n个结点的完全图的任意两点间经过m条边的最短路径 "
   ]
  },
  {
   "cell_type": "markdown",
   "metadata": {},
   "source": [
    "IDEA: 经过M条边的最短路径 = 经过M-1条边的最短路径 + 最短的相邻边"
   ]
  },
  {
   "cell_type": "code",
   "execution_count": 45,
   "metadata": {},
   "outputs": [
    {
     "ename": "NameError",
     "evalue": "name 'raw_input' is not defined",
     "output_type": "error",
     "traceback": [
      "\u001b[0;31m---------------------------------------------------------------------------\u001b[0m",
      "\u001b[0;31mNameError\u001b[0m                                 Traceback (most recent call last)",
      "\u001b[0;32m<ipython-input-45-50bdc48711e3>\u001b[0m in \u001b[0;36m<module>\u001b[0;34m()\u001b[0m\n\u001b[1;32m     11\u001b[0m     \u001b[0;32mreturn\u001b[0m \u001b[0mdp\u001b[0m\u001b[0;34m\u001b[0m\u001b[0m\n\u001b[1;32m     12\u001b[0m \u001b[0;34m\u001b[0m\u001b[0m\n\u001b[0;32m---> 13\u001b[0;31m \u001b[0mn\u001b[0m \u001b[0;34m=\u001b[0m \u001b[0mraw_input\u001b[0m\u001b[0;34m(\u001b[0m\u001b[0;34m\"Enter your N: \"\u001b[0m\u001b[0;34m)\u001b[0m\u001b[0;34m\u001b[0m\u001b[0m\n\u001b[0m\u001b[1;32m     14\u001b[0m \u001b[0mm\u001b[0m \u001b[0;34m=\u001b[0m \u001b[0mraw_input\u001b[0m\u001b[0;34m(\u001b[0m\u001b[0;34m\"Enter your M: \"\u001b[0m\u001b[0;34m)\u001b[0m\u001b[0;34m\u001b[0m\u001b[0m\n\u001b[1;32m     15\u001b[0m \u001b[0minput_map\u001b[0m \u001b[0;34m=\u001b[0m \u001b[0mraw_input\u001b[0m\u001b[0;34m(\u001b[0m\u001b[0;34m\"Enter your input: \"\u001b[0m\u001b[0;34m)\u001b[0m\u001b[0;34m\u001b[0m\u001b[0m\n",
      "\u001b[0;31mNameError\u001b[0m: name 'raw_input' is not defined"
     ]
    }
   ],
   "source": [
    "def shortestNM(n, m, input):\n",
    "    n = int(n)\n",
    "    m = int(m)\n",
    "    initial_map = []\n",
    "    for i in range(n):\n",
    "        line = [int(x) for x in input.split()[i*n:(i+1)*n]]\n",
    "        initial_map.append(list(line))\n",
    "    dp = [list(x) for x in initial_map]     \n",
    "    copy = [list(x) for x in initial_map]\n",
    "    for i in range(m-1):\n",
    "        for j in range(n):\n",
    "            for k in range(n):\n",
    "                copy[j][k] = min([(dp[j][p] + initial_map[p][k]) for p in range(n) if p!=j and p!=k])\n",
    "        dp = [list(x) for x in copy]\n",
    "    return dp\n",
    "\n",
    "n = raw_input(\"Enter your N: \")\n",
    "m = raw_input(\"Enter your M: \")\n",
    "input_map = raw_input(\"Enter your input: \")\n",
    "\n",
    "print(shortestNM(n,m, input_map))"
   ]
  },
  {
   "cell_type": "code",
   "execution_count": 44,
   "metadata": {},
   "outputs": [
    {
     "name": "stdout",
     "output_type": "stream",
     "text": [
      "[[4, 4, 3], [4, 2, 5], [3, 5, 2]]\n"
     ]
    }
   ],
   "source": [
    "\n",
    "def shortestNM(n, m, input):\n",
    "#     initial_map = input_map.copy()   # WRONG\n",
    "#     dp = input_map.copy()\n",
    "#     copy = input_map.copy()\n",
    "    initial_map = [list(x) for x in input]\n",
    "    dp = [list(x) for x in input]     #一维列表浅拷贝用list(),二维列表浅拷贝用[list(x) for x in dp]  三维用[[list(i) for i in x] for x in dp]\n",
    "    copy = [list(x) for x in input]\n",
    "    for i in range(m-1):\n",
    "        for j in range(n):\n",
    "            for k in range(n):\n",
    "                copy[j][k] = min([(dp[j][p] + initial_map[p][k]) for p in range(n) if p!=j and p!=k])\n",
    "        dp = [list(x) for x in copy]\n",
    "    return dp\n",
    "\n",
    "print(shortestNM(3, 2, [[0,2,3],[2,0,1],[3,1,0]]))"
   ]
  },
  {
   "cell_type": "code",
   "execution_count": 36,
   "metadata": {},
   "outputs": [
    {
     "name": "stdout",
     "output_type": "stream",
     "text": [
      "[[4, 4, 3], [4, 2, 5], [3, 5, 2]]\n"
     ]
    }
   ],
   "source": [
    "def shortestNM(n, m, input):\n",
    "    map = [list(x) for x in input]\n",
    "    dp = [list(x) for x in input]     #一维列表浅拷贝用list(),二维列表浅拷贝用[list(x) for x in dp]  三维用[[list(i) for i in x] for x in dp]\n",
    "    last_dp = [list(x) for x in input]\n",
    "    for k in range(m - 1):     #共循环m-1轮，每一次循环后的dp矩阵元素代表i和j之间的长度为m的最短路径\n",
    "        for i in range(n):\n",
    "            for j in range(n):\n",
    "                tmp = [last_dp[i][x] + map[x][j] for x in range(n) if x != i and x != j]\n",
    "                dp[i][j] = min(tmp)\n",
    "        # copy\n",
    "        last_dp = [list(x) for x in dp]\n",
    "        return dp\n",
    "\n",
    "print(shortestNM(3, 2, [[0,2,3],[2,0,1],[3,1,0]]))"
   ]
  },
  {
   "cell_type": "code",
   "execution_count": 43,
   "metadata": {},
   "outputs": [
    {
     "name": "stdout",
     "output_type": "stream",
     "text": [
      "[[0, 2, 3], [2, 0, 1], [3, 1, 0]]\n",
      "[[8, 2, 3], [2, 0, 1], [3, 1, 0]]\n",
      "[[8, 2, 3], [2, 0, 1], [3, 1, 0]]\n",
      "[[8, 2, 3], [2, 0, 1], [3, 1, 0]]\n",
      "[[10, 2, 3], [2, 0, 1], [3, 1, 0]]\n",
      "[[8, 2, 3], [2, 0, 1], [3, 1, 0]]\n"
     ]
    }
   ],
   "source": [
    "input_map = [[0,2,3],[2,0,1],[3,1,0]]\n",
    "print([x for x in input_map])\n",
    "a = [x for x in input_map]\n",
    "a[0][0] = 8\n",
    "print(input_map)\n",
    "print(a)\n",
    "b = [list(x) for x in input_map]\n",
    "b[0][0] = 10\n",
    "print(input_map)\n",
    "print(b)\n",
    "print([list(x) for x in input_map])"
   ]
  },
  {
   "cell_type": "code",
   "execution_count": null,
   "metadata": {},
   "outputs": [],
   "source": [
    "def shortestNM(n, m, input):\n",
    "    n = int(n)\n",
    "    m = int(m)\n",
    "    initial_map = []\n",
    "    for i in range(n):\n",
    "        line = [int(x) for x in input.split()[i*n:(i+1)*n]]\n",
    "        initial_map.append(list(line))\n",
    "    dp = [list(x) for x in initial_map]     \n",
    "    copy = [list(x) for x in initial_map]\n",
    "    for i in range(m-1):\n",
    "        for j in range(n):\n",
    "            for k in range(n):\n",
    "                copy[j][k] = min([(dp[j][p] + initial_map[p][k]) for p in range(n) if p!=j and p!=k])\n",
    "        dp = [list(x) for x in copy]\n",
    "    return dp\n",
    "\n",
    "n = raw_input()\n",
    "m = raw_input()\n",
    "_,_ = raw_input()\n",
    "input_map = ''\n",
    "for i in range(int(n)):\n",
    "  read = raw_input()\n",
    "  input_map = input_map+read.strip()\n",
    "\n",
    "res = shortestNM(n, m, input_map)    \n",
    "for i in range(len(res)):\n",
    "  print(' '.join(str(res[i][j]) for j in range(int(n))))"
   ]
  }
 ],
 "metadata": {
  "kernelspec": {
   "display_name": "Python 3",
   "language": "python",
   "name": "python3"
  },
  "language_info": {
   "codemirror_mode": {
    "name": "ipython",
    "version": 3
   },
   "file_extension": ".py",
   "mimetype": "text/x-python",
   "name": "python",
   "nbconvert_exporter": "python",
   "pygments_lexer": "ipython3",
   "version": "3.6.1"
  }
 },
 "nbformat": 4,
 "nbformat_minor": 2
}
