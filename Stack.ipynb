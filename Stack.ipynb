{
 "cells": [
  {
   "cell_type": "markdown",
   "metadata": {},
   "source": [
    "### 155. Min Stack"
   ]
  },
  {
   "cell_type": "markdown",
   "metadata": {},
   "source": [
    "Design a stack that supports push, pop, top, and retrieving the minimum element in constant time.\n",
    "\n",
    "push(x) -- Push element x onto stack.\n",
    "\n",
    "\n",
    "pop() -- Removes the element on top of the stack.\n",
    "\n",
    "top() -- Get the top element.\n",
    "\n",
    "getMin() -- Retrieve the minimum element in the stack."
   ]
  },
  {
   "cell_type": "code",
   "execution_count": 6,
   "metadata": {},
   "outputs": [
    {
     "ename": "SyntaxError",
     "evalue": "invalid syntax (<ipython-input-6-7b2f76718ed9>, line 1)",
     "output_type": "error",
     "traceback": [
      "\u001b[0;36m  File \u001b[0;32m\"<ipython-input-6-7b2f76718ed9>\"\u001b[0;36m, line \u001b[0;32m1\u001b[0m\n\u001b[0;31m    Class minStack(object):\u001b[0m\n\u001b[0m                 ^\u001b[0m\n\u001b[0;31mSyntaxError\u001b[0m\u001b[0;31m:\u001b[0m invalid syntax\n"
     ]
    }
   ],
   "source": [
    "Class minStack(object):\n",
    "    def __init__(self):\n",
    "        self.q = []\n",
    "    \n",
    "    # @param x, an integer\n",
    "    # @return an integer\n",
    "    def push(self, x):\n",
    "        curmin = self.getMin()\n",
    "        if x < curmin or curmin == None:\n",
    "            curmin = x\n",
    "        self.q.append((x, curmin))\n",
    "        \n",
    "    def pop(self):\n",
    "        self.q.pop()\n",
    "        \n",
    "    def top(self):\n",
    "        if len(self.q) == 0:\n",
    "            return None\n",
    "        else:\n",
    "            return self.q[-1][0]\n",
    "    \n",
    "    def getMin(self):\n",
    "        if len(self.q) == 0:\n",
    "            return None\n",
    "        else:\n",
    "            return self.q[-1][1]"
   ]
  },
  {
   "cell_type": "markdown",
   "metadata": {},
   "source": [
    "### 496. Next Greater Element I "
   ]
  },
  {
   "cell_type": "markdown",
   "metadata": {},
   "source": [
    "You are given two arrays (without duplicates) nums1 and nums2 where nums1’s elements are subset of nums2. Find all the next greater numbers for nums1's elements in the corresponding places of nums2.\n",
    "\n",
    "The Next Greater Number of a number x in nums1 is the first greater number to its right in nums2. If it does not exist, output -1 for this number.\n",
    "\n",
    "1. two for-loop: O(m * n)\n",
    "2. make Hash table: records all the possibilities (O(N)); then quiry(O(m)) "
   ]
  },
  {
   "cell_type": "code",
   "execution_count": 12,
   "metadata": {},
   "outputs": [
    {
     "name": "stdout",
     "output_type": "stream",
     "text": [
      "[3, -1]\n"
     ]
    }
   ],
   "source": [
    "def nextGreaterElement(findNums, nums):\n",
    "        \"\"\"\n",
    "        :type findNums: List[int]\n",
    "        :type nums: List[int]\n",
    "        :rtype: List[int]\n",
    "        \"\"\"\n",
    "        res = []\n",
    "        for i in findNums:\n",
    "            index_i = nums.index(i)\n",
    "            for j in nums[index_i+1:]:\n",
    "                if j>i:\n",
    "                    res.append(j)\n",
    "                    break\n",
    "            else:\n",
    "                res.append(-1)\n",
    "        return res\n",
    "    \n",
    "print(nextGreaterElement([2,4], [1,2,3,4]))    "
   ]
  },
  {
   "cell_type": "code",
   "execution_count": 16,
   "metadata": {},
   "outputs": [
    {
     "name": "stdout",
     "output_type": "stream",
     "text": [
      "[-1, 3, -1]\n"
     ]
    }
   ],
   "source": [
    "def nextGreaterElement(findNums, nums):\n",
    "        \"\"\"\n",
    "        :type findNums: List[int]\n",
    "        :type nums: List[int]\n",
    "        :rtype: List[int]\n",
    "        \"\"\"\n",
    "        d, st, res = {}, [], []\n",
    "        for x in nums:\n",
    "            whiles len(st) and st[-1]<x:\n",
    "                d[st.pop()] = x\n",
    "            st.append(x)\n",
    "        \n",
    "        for v in findNums:\n",
    "            res.append(d.get(v, -1))  # -1 is the default of dictionary.get()\n",
    "            \n",
    "        return res\n",
    "    \n",
    "print(nextGreaterElement([4,1,2], [1,3,4,2]))"
   ]
  },
  {
   "cell_type": "code",
   "execution_count": 17,
   "metadata": {},
   "outputs": [
    {
     "name": "stdout",
     "output_type": "stream",
     "text": [
      "[1, 2, 3, 4]\n"
     ]
    }
   ],
   "source": [
    "s = [1,2,3,4,5]\n",
    "s.pop()\n",
    "print(s)"
   ]
  },
  {
   "cell_type": "code",
   "execution_count": null,
   "metadata": {},
   "outputs": [],
   "source": []
  }
 ],
 "metadata": {
  "kernelspec": {
   "display_name": "Python 3",
   "language": "python",
   "name": "python3"
  },
  "language_info": {
   "codemirror_mode": {
    "name": "ipython",
    "version": 3
   },
   "file_extension": ".py",
   "mimetype": "text/x-python",
   "name": "python",
   "nbconvert_exporter": "python",
   "pygments_lexer": "ipython3",
   "version": "3.6.1"
  }
 },
 "nbformat": 4,
 "nbformat_minor": 2
}
