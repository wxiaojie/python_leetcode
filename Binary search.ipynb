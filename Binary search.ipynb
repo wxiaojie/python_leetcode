{
 "cells": [
  {
   "cell_type": "markdown",
   "metadata": {},
   "source": [
    "### 35. Search Insert Position "
   ]
  },
  {
   "cell_type": "markdown",
   "metadata": {},
   "source": [
    "Given a sorted array and a target value, return the index if the target is found. If not, return the index where it would be if it were inserted in order.\n",
    "\n",
    "You may assume no duplicates in the array."
   ]
  },
  {
   "cell_type": "code",
   "execution_count": 4,
   "metadata": {},
   "outputs": [],
   "source": [
    "class Solution:\n",
    "    def searchInsert(self, nums, target):\n",
    "        \"\"\"\n",
    "        :type nums: List[int]\n",
    "        :type target: int\n",
    "        :rtype: int\n",
    "        \"\"\"\n",
    "        l, r = 0, len(nums)-1\n",
    "        while l <= r:\n",
    "            mid = (l+r) // 2\n",
    "            if nums[mid] == target:\n",
    "                return mid\n",
    "            elif nums[mid] < target:\n",
    "                l = mid + 1\n",
    "            else:\n",
    "                r = mid -1\n",
    "        return l\n"
   ]
  },
  {
   "cell_type": "code",
   "execution_count": 5,
   "metadata": {},
   "outputs": [
    {
     "name": "stdout",
     "output_type": "stream",
     "text": [
      "2\n"
     ]
    }
   ],
   "source": [
    "def searchInsert(nums, target):\n",
    "    \"\"\"\n",
    "    :type nums: List[int]\n",
    "    :type target: int\n",
    "    :rtype: int\n",
    "    \"\"\"\n",
    "    l, r = 0, len(nums)-1\n",
    "    while l <= r:\n",
    "        mid = (l+r) // 2\n",
    "        if nums[mid] == target:\n",
    "            return mid\n",
    "        elif nums[mid] < target:\n",
    "            l = mid + 1\n",
    "        else:\n",
    "            r = mid -1\n",
    "    return l\n",
    "\n",
    "print(searchInsert([1,2,3,4], 3))"
   ]
  },
  {
   "cell_type": "markdown",
   "metadata": {},
   "source": [
    "### 852. Peak Index in a Mountain Array "
   ]
  },
  {
   "cell_type": "markdown",
   "metadata": {},
   "source": [
    "Let's call an array A a mountain if the following properties hold:\n",
    "\n",
    "A.length >= 3\n",
    "There exists some 0 < i < A.length - 1 such that A[0] < A[1] < ... A[i-1] < A[i] > A[i+1] > ... > A[A.length - 1]\n",
    "\n",
    "Given an array that is definitely a mountain, return any i such that A[0] < A[1] < ... A[i-1] < A[i] > A[i+1] > ... > A[A.length - 1]."
   ]
  },
  {
   "cell_type": "code",
   "execution_count": 6,
   "metadata": {},
   "outputs": [
    {
     "name": "stdout",
     "output_type": "stream",
     "text": [
      "4\n"
     ]
    }
   ],
   "source": [
    "def peakIndexInMountainArray(A):\n",
    "        \"\"\"\n",
    "        :type A: List[int]\n",
    "        :rtype: int\n",
    "        \"\"\"\n",
    "        l, r = 0, len(A) -1\n",
    "        while l<r:\n",
    "            mid = (l+r)//2\n",
    "            if A[mid] < A[mid+1]:\n",
    "                l = mid+1\n",
    "            else:\n",
    "                r = mid\n",
    "        return l\n",
    "    \n",
    "print(peakIndexInMountainArray([1,2,3,4,5,3,2]))"
   ]
  },
  {
   "cell_type": "markdown",
   "metadata": {},
   "source": [
    "### 167. Two Sum II - Input array is sorted "
   ]
  },
  {
   "cell_type": "markdown",
   "metadata": {},
   "source": [
    "Given an array of integers that is already sorted in ascending order, find two numbers such that they add up to a specific target number.\n",
    "\n",
    "The function twoSum should return indices of the two numbers such that they add up to the target, where index1 must be less than index2.\n",
    "\n",
    "Note:\n",
    "\n",
    "Your returned answers (both index1 and index2) are not zero-based.\n",
    "You may assume that each input would have exactly one solution and you may not use the same element twice."
   ]
  },
  {
   "cell_type": "code",
   "execution_count": 7,
   "metadata": {},
   "outputs": [
    {
     "name": "stdout",
     "output_type": "stream",
     "text": [
      "(1, 2)\n"
     ]
    }
   ],
   "source": [
    "def twoSum(numbers, target):\n",
    "    l, r = 0, len(numbers)-1\n",
    "    while l<r:\n",
    "        s = numbers[l] + numbers[r]\n",
    "        if s == target:\n",
    "            return l+1, r+1\n",
    "        elif s<target:\n",
    "            l +=1\n",
    "        else:\n",
    "            r -= 1\n",
    "            \n",
    "print(twoSum([2,7,11,15], 9))"
   ]
  },
  {
   "cell_type": "code",
   "execution_count": 14,
   "metadata": {},
   "outputs": [
    {
     "name": "stdout",
     "output_type": "stream",
     "text": [
      "(1, 2)\n"
     ]
    }
   ],
   "source": [
    "# \tTime Limit Exceeded\n",
    "def twoSum(numbers, target):\n",
    "    for i in range(len(numbers)):\n",
    "        cor_i = target - numbers[i]\n",
    "        if numbers.count(cor_i) > 0:\n",
    "            index_cor_i = numbers[i+1:].index(cor_i)\n",
    "            return i+1, index_cor_i+i+2\n",
    "\n",
    "print(twoSum([0,0,1,2], 0))"
   ]
  },
  {
   "cell_type": "code",
   "execution_count": 4,
   "metadata": {},
   "outputs": [
    {
     "name": "stdout",
     "output_type": "stream",
     "text": [
      "(3, 4)\n"
     ]
    }
   ],
   "source": [
    "# modify the search process of cor_i into\n",
    "def twoSum(numbers, target):\n",
    "    for i in range(len(numbers)):\n",
    "        cor_i = target - numbers[i]\n",
    "        l, r = i+1, len(numbers)-1\n",
    "        while l<=r:\n",
    "            mid = (l+r)//2\n",
    "            if numbers[mid]==cor_i:\n",
    "                return i+1, mid+1\n",
    "            elif numbers[mid]<cor_i:\n",
    "                l = mid +1\n",
    "            else:\n",
    "                r = mid -1\n",
    "\n",
    "print(twoSum([0,1,2,2], 4))"
   ]
  },
  {
   "cell_type": "code",
   "execution_count": null,
   "metadata": {},
   "outputs": [],
   "source": []
  }
 ],
 "metadata": {
  "kernelspec": {
   "display_name": "Python 3",
   "language": "python",
   "name": "python3"
  },
  "language_info": {
   "codemirror_mode": {
    "name": "ipython",
    "version": 3
   },
   "file_extension": ".py",
   "mimetype": "text/x-python",
   "name": "python",
   "nbconvert_exporter": "python",
   "pygments_lexer": "ipython3",
   "version": "3.6.1"
  }
 },
 "nbformat": 4,
 "nbformat_minor": 2
}
