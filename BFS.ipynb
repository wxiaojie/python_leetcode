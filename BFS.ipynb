{
 "cells": [
  {
   "cell_type": "markdown",
   "metadata": {},
   "source": [
    "### 107. Binary Tree Level Order Traversal II"
   ]
  },
  {
   "cell_type": "markdown",
   "metadata": {},
   "source": [
    "Given a binary tree, return the bottom-up level order traversal of its nodes' values. (ie, from left to right, level by level from leaf to root)."
   ]
  },
  {
   "cell_type": "code",
   "execution_count": 1,
   "metadata": {},
   "outputs": [],
   "source": [
    "# Definition for a binary tree node.\n",
    "# class TreeNode(object):\n",
    "#     def __init__(self, x):\n",
    "#         self.val = x\n",
    "#         self.left = None\n",
    "#         self.right = None\n",
    "\n",
    "class Solution(object):\n",
    "    def levelOrderBottom(self, root):\n",
    "        \"\"\"\n",
    "        :type root: TreeNode\n",
    "        :rtype: List[List[int]]\n",
    "        \"\"\"\n",
    "        if not root:\n",
    "            return []\n",
    "        res = []\n",
    "        current_level = [root]\n",
    "        while corrent_level:\n",
    "            current_res = []\n",
    "            next_level = []\n",
    "            for node in current_level:\n",
    "                current_res.append(node.val)\n",
    "                if node.left:\n",
    "                    next_level.append(node.left)\n",
    "                if node.right:\n",
    "                    next_level.append(node.right)\n",
    "            res.append(current_res)\n",
    "            current_level = next_level\n",
    "            \n",
    "        return res[::-1]"
   ]
  },
  {
   "cell_type": "markdown",
   "metadata": {},
   "source": [
    "### 111. Minimum Depth of Binary Tree "
   ]
  },
  {
   "cell_type": "markdown",
   "metadata": {},
   "source": [
    "Given a binary tree, find its minimum depth.\n",
    "\n",
    "The minimum depth is the number of nodes along the shortest path from the root node down to the nearest leaf node.\n",
    "\n",
    "#### Idea:\n",
    "the depth of the first node without child is the minimum depth "
   ]
  },
  {
   "cell_type": "code",
   "execution_count": 2,
   "metadata": {},
   "outputs": [],
   "source": [
    "# Definition for a binary tree node.\n",
    "# class TreeNode(object):\n",
    "#     def __init__(self, x):\n",
    "#         self.val = x\n",
    "#         self.left = None\n",
    "#         self.right = None\n",
    "\n",
    "class Solution(object):\n",
    "    def minDepth(self, root):\n",
    "        \"\"\"\n",
    "        :type root: TreeNode\n",
    "        :rtype: int\n",
    "        \"\"\"\n",
    "        if not root:\n",
    "            return 0\n",
    "        current_level = [root]\n",
    "        depth = 0\n",
    "        while current_level:\n",
    "            depth += 1\n",
    "            next_level = []\n",
    "            for node in current_level:\n",
    "                if node.left:\n",
    "                    next_level.append(node.left)\n",
    "                if node.right:\n",
    "                    next_level.append(node.right)\n",
    "                if not node.left and not node.right:\n",
    "                    return depth\n",
    "            current_level = next_level\n",
    "        return depth\n",
    "        "
   ]
  },
  {
   "cell_type": "markdown",
   "metadata": {},
   "source": [
    "### 101. Symmetric Tree "
   ]
  },
  {
   "cell_type": "markdown",
   "metadata": {},
   "source": [
    "Given a binary tree, check whether it is a mirror of itself (ie, symmetric around its center).\n",
    "\n",
    "Note:\n",
    "\n",
    "Bonus points if you could solve it both recursively and iteratively"
   ]
  },
  {
   "cell_type": "code",
   "execution_count": 3,
   "metadata": {},
   "outputs": [],
   "source": [
    "# Definition for a binary tree node.\n",
    "# class TreeNode(object):\n",
    "#     def __init__(self, x):\n",
    "#         self.val = x\n",
    "#         self.left = None\n",
    "#         self.right = None\n",
    "\n",
    "class Solution(object):   \n",
    "    def isSymmetric(self, root):   #iteratively\n",
    "        \"\"\"\n",
    "        :type root: TreeNode\n",
    "        :rtype: bool\n",
    "        \"\"\"\n",
    "        if not root:\n",
    "            return True\n",
    "        current_level = [root]\n",
    "        while current_level:\n",
    "            next_level = []\n",
    "            next_value = []\n",
    "            for node in current_level:\n",
    "                if node.left:\n",
    "                    next_level.append(node.left)\n",
    "                    next_value.append(node.left.val)\n",
    "                else:\n",
    "                    next_value.append(None)\n",
    "                if node.right:\n",
    "                    next_level.append(node.right)\n",
    "                    next_value.append(node.right.val)\n",
    "                else:\n",
    "                    next_value.append(None)\n",
    "            if next_level == []:\n",
    "                return True\n",
    "            elif next_value[:len(next_value)//2] != next_value[len(next_value)//2:][::-1]:\n",
    "                return False\n",
    "            current_level = next_level\n",
    "        return True"
   ]
  },
  {
   "cell_type": "code",
   "execution_count": 5,
   "metadata": {},
   "outputs": [],
   "source": [
    "class Solution(object):   \n",
    "    def isSymmetric(self, root):   #recursively\n",
    "        \"\"\"\n",
    "        :type root: TreeNode\n",
    "        :rtype: bool\n",
    "        \"\"\"\n",
    "        if not root:\n",
    "            return True\n",
    "        return self.isMirror(root.left, root.right)\n",
    "        \n",
    "    def isMirror(self, left, right):\n",
    "        if not left and not right:\n",
    "            return True\n",
    "        elif not left or not right:\n",
    "            return False\n",
    "        if left.val == right.val:\n",
    "            res_left = self.isMirror(left.left, right.right)  # symmetry\n",
    "            res_right = self.isMirror(left.right, right.left)\n",
    "            if res_left and res_right:\n",
    "                return True\n",
    "        return False"
   ]
  }
 ],
 "metadata": {
  "kernelspec": {
   "display_name": "Python 3",
   "language": "python",
   "name": "python3"
  },
  "language_info": {
   "codemirror_mode": {
    "name": "ipython",
    "version": 3
   },
   "file_extension": ".py",
   "mimetype": "text/x-python",
   "name": "python",
   "nbconvert_exporter": "python",
   "pygments_lexer": "ipython3",
   "version": "3.6.1"
  }
 },
 "nbformat": 4,
 "nbformat_minor": 2
}
