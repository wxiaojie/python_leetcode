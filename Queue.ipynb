{
 "cells": [
  {
   "cell_type": "markdown",
   "metadata": {},
   "source": [
    "### 622. Design Circular Queue "
   ]
  },
  {
   "cell_type": "markdown",
   "metadata": {},
   "source": [
    "Design your implementation of the circular queue. The circular queue is a linear data structure in which the operations are performed based on FIFO (First In First Out) principle and the last position is connected back to the first position to make a circle. It is also called \"Ring Buffer\".\n",
    "\n",
    "One of the benefits of the circular queue is that we can make use of the spaces in front of the queue. In a normal queue, once the queue becomes full, we cannot insert the next element even if there is a space in front of the queue. But using the circular queue, we can use the space to store new values.\n",
    "\n",
    "Your implementation should support following operations:\n",
    "\n",
    "MyCircularQueue(k): Constructor, set the size of the queue to be k.\n",
    "\n",
    "Front: Get the front item from the queue. If the queue is empty, return -1.\n",
    "\n",
    "Rear: Get the last item from the queue. If the queue is empty, return -1.\n",
    "\n",
    "enQueue(value): Insert an element into the circular queue. Return true if the operation is successful.\n",
    "\n",
    "deQueue(): Delete an element from the circular queue. Return true if the operation is successful.\n",
    "\n",
    "isEmpty(): Checks whether the circular queue is empty or not.  ---- 维护另外一个参数，size\n",
    "\n",
    "isFull(): Checks whether the circular queue is full or not."
   ]
  },
  {
   "cell_type": "code",
   "execution_count": 13,
   "metadata": {},
   "outputs": [
    {
     "data": {
      "text/plain": [
       "True"
      ]
     },
     "execution_count": 13,
     "metadata": {},
     "output_type": "execute_result"
    }
   ],
   "source": [
    "class MyCircularQueue(object):\n",
    "\n",
    "    def __init__(self, k):\n",
    "        \"\"\"\n",
    "        Initialize your data structure here. Set the size of the queue to be k.\n",
    "        :type k: int\n",
    "        \"\"\"\n",
    "        self.k = k\n",
    "        self.q = [None]*self.k\n",
    "        self.head = -1\n",
    "        self.tail = -1\n",
    "        self.size = 0\n",
    "        \n",
    "        \n",
    "    def enQueue(self, value):\n",
    "        \"\"\"\n",
    "        Insert an element into the circular queue. Return true if the operation is successful.\n",
    "        :type value: int\n",
    "        :rtype: bool\n",
    "        \"\"\"\n",
    "        if self.isFull():  # never forget ()\n",
    "            return False\n",
    "        if self.isEmpty():\n",
    "            self.head = 0\n",
    "        self.tail = (self.tail + 1) % self.k\n",
    "        self.q[self.tail] = value\n",
    "        self.size += 1\n",
    "        return True\n",
    "\n",
    "    def deQueue(self):\n",
    "        \"\"\"\n",
    "        Delete an element from the circular queue. Return true if the operation is successful.\n",
    "        :rtype: bool\n",
    "        \"\"\"\n",
    "        if self.isEmpty():\n",
    "            return False\n",
    "        if self.head == self.tail:\n",
    "            self.head = -1\n",
    "            self.tail = -1\n",
    "            self.size = 0\n",
    "        else:\n",
    "            self.head = (self.head + 1) % self.k\n",
    "            self.size -= 1\n",
    "        return True\n",
    "        \n",
    "\n",
    "    def Front(self):\n",
    "        \"\"\"\n",
    "        Get the front item from the queue.\n",
    "        :rtype: int\n",
    "        \"\"\"\n",
    "        if self.head != -1:\n",
    "            return self.q[self.head]\n",
    "        else:\n",
    "            return -1\n",
    "        \n",
    "\n",
    "    def Rear(self):\n",
    "        \"\"\"\n",
    "        Get the last item from the queue.\n",
    "        :rtype: int\n",
    "        \"\"\"\n",
    "        if self.tail != -1:\n",
    "            return self.q[self.tail]\n",
    "        else:\n",
    "            return -1\n",
    "        \n",
    "\n",
    "    def isEmpty(self):   \n",
    "        \"\"\"\n",
    "        Checks whether the circular queue is empty or not.\n",
    "        :rtype: bool\n",
    "        \"\"\"\n",
    "        return self.size == 0\n",
    "        \n",
    "\n",
    "    def isFull(self):\n",
    "        \"\"\"\n",
    "        Checks whether the circular queue is full or not.\n",
    "        :rtype: bool\n",
    "        \"\"\"\n",
    "        return self.size == self.k\n",
    "    \n",
    "\n",
    "circularQueue = MyCircularQueue(3)\n",
    "circularQueue.enQueue(1)\n",
    "        "
   ]
  },
  {
   "cell_type": "code",
   "execution_count": 11,
   "metadata": {},
   "outputs": [
    {
     "data": {
      "text/plain": [
       "True"
      ]
     },
     "execution_count": 11,
     "metadata": {},
     "output_type": "execute_result"
    }
   ],
   "source": []
  },
  {
   "cell_type": "code",
   "execution_count": null,
   "metadata": {},
   "outputs": [],
   "source": []
  }
 ],
 "metadata": {
  "kernelspec": {
   "display_name": "Python 3",
   "language": "python",
   "name": "python3"
  },
  "language_info": {
   "codemirror_mode": {
    "name": "ipython",
    "version": 3
   },
   "file_extension": ".py",
   "mimetype": "text/x-python",
   "name": "python",
   "nbconvert_exporter": "python",
   "pygments_lexer": "ipython3",
   "version": "3.6.1"
  }
 },
 "nbformat": 4,
 "nbformat_minor": 2
}
