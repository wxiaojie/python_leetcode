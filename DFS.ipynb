{
 "cells": [
  {
   "cell_type": "markdown",
   "metadata": {},
   "source": [
    "### 695. Max Area of Island "
   ]
  },
  {
   "cell_type": "markdown",
   "metadata": {},
   "source": [
    "Given a non-empty 2D array grid of 0's and 1's, an island is a group of 1's (representing land) connected 4-directionally (horizontal or vertical.) You may assume all four edges of the grid are surrounded by water.\n",
    "\n",
    "Find the maximum area of an island in the given 2D array. (If there is no island, the maximum area is 0.)\n",
    "\n",
    "#### Idea\n",
    "DFS, 依次遍历，每遇到一个1，再遍历1周围的4个值，不能重复计算（计算一次后置为0）"
   ]
  },
  {
   "cell_type": "code",
   "execution_count": 1,
   "metadata": {},
   "outputs": [
    {
     "name": "stdout",
     "output_type": "stream",
     "text": [
      "0\n"
     ]
    }
   ],
   "source": [
    "def maxAreaOfIsland(grid):\n",
    "        m, n = len(grid), len(grid[0])\n",
    "        def dfs(i, j):\n",
    "            if 0 <= i < m and 0 <= j <n and grid[i][j]:\n",
    "                grid[i][j] = 0\n",
    "                return 1 + dfs(i-1, j) + dfs(i+1, j) + dfs(i,j-1) + dfs(i, j+1)\n",
    "            else:\n",
    "                return 0\n",
    "            \n",
    "        areas = [dfs(i, j) for i in range(m) for j in range(n) if grid[i][j]]\n",
    "        return max(areas) if areas else 0\n",
    "    \n",
    "print(maxAreaOfIsland([[0,0,0,0,0,0,0,0]]))"
   ]
  },
  {
   "cell_type": "markdown",
   "metadata": {},
   "source": [
    "### 110. Balanced Binary Tree "
   ]
  },
  {
   "cell_type": "markdown",
   "metadata": {},
   "source": [
    "Given a binary tree, determine if it is height-balanced.\n",
    "\n",
    "For this problem, a height-balanced binary tree is defined as:\n",
    "\n",
    "##### a binary tree in which the depth of the two subtrees of every node never differ by more than 1."
   ]
  },
  {
   "cell_type": "code",
   "execution_count": 2,
   "metadata": {},
   "outputs": [],
   "source": [
    "# Definition for a binary tree node.\n",
    "# class TreeNode(object):\n",
    "#     def __init__(self, x):\n",
    "#         self.val = x\n",
    "#         self.left = None\n",
    "#         self.right = None\n",
    "\n",
    "class Solution(object):\n",
    "    def isBalanced(self, root):\n",
    "        \"\"\"\n",
    "        :type root: TreeNode\n",
    "        :rtype: bool\n",
    "        \"\"\"\n",
    "        if not root:\n",
    "            return True\n",
    "        return abs(self.getDepth(root.left) - self.getDepth(root.right))<2 and self.isBalanced(root.left) and self.isBalanced(root.right)\n",
    "        \n",
    "    def getDepth(self, root):\n",
    "        if not root:\n",
    "            return 0\n",
    "        return max(1 + self.getDepth(root.left), 1+self.getDepth(root.right))"
   ]
  },
  {
   "cell_type": "code",
   "execution_count": null,
   "metadata": {},
   "outputs": [],
   "source": [
    "class Solution(object):  # other's solution, try later\n",
    "    \n",
    "    def parse(self, node, depth):\n",
    "        if node == None:\n",
    "            return depth, True\n",
    "        l_height, balancedl = self.parse(node.left, depth+1)\n",
    "        r_height, balancedr = self.parse(node.right, depth+1)\n",
    "        diff = abs(l_height - r_height)\n",
    "        if diff > 1:\n",
    "            return max(l_height, r_height), False\n",
    "        return max(l_height, r_height), balancedl and balancedr\n",
    "    \n",
    "    def isBalanced(self, root):\n",
    "        \"\"\"\n",
    "        :type root: TreeNode\n",
    "        :rtype: bool\n",
    "        \"\"\"\n",
    "        height, balanced = self.parse(root, 0)\n",
    "        return balanced"
   ]
  }
 ],
 "metadata": {
  "kernelspec": {
   "display_name": "Python 3",
   "language": "python",
   "name": "python3"
  },
  "language_info": {
   "codemirror_mode": {
    "name": "ipython",
    "version": 3
   },
   "file_extension": ".py",
   "mimetype": "text/x-python",
   "name": "python",
   "nbconvert_exporter": "python",
   "pygments_lexer": "ipython3",
   "version": "3.6.1"
  }
 },
 "nbformat": 4,
 "nbformat_minor": 2
}
