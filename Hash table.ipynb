{
 "cells": [
  {
   "cell_type": "markdown",
   "metadata": {},
   "source": [
    "### 205. Isomorphic Strings "
   ]
  },
  {
   "cell_type": "markdown",
   "metadata": {},
   "source": [
    "Given two strings s and t, determine if they are isomorphic.\n",
    "\n",
    "Two strings are isomorphic if the characters in s can be replaced to get t.\n",
    "\n",
    "All occurrences of a character must be replaced with another character while preserving the order of characters. No two characters may map to the same character but a character may map to itself.\n",
    "\n",
    "You may assume both s and t have the same length."
   ]
  },
  {
   "cell_type": "code",
   "execution_count": 24,
   "metadata": {},
   "outputs": [
    {
     "name": "stdout",
     "output_type": "stream",
     "text": [
      "True\n"
     ]
    }
   ],
   "source": [
    "def isIsomorphic(s, t):  ## map from s to t and also t to s\n",
    "    \"\"\"\n",
    "    :type s: str\n",
    "    :type t: str\n",
    "    :rtype: bool\n",
    "    \"\"\"\n",
    "    if s == t == '':\n",
    "        return True\n",
    "    c_t = {}\n",
    "    for i in range(len(s)):\n",
    "        if s[i] not in c_t.keys():\n",
    "            c_t[s[i]] = t[i]\n",
    "        elif s[i] in c_t.keys():\n",
    "            if c_t[s[i]] != t[i]:\n",
    "                return False\n",
    "    c_s = {}\n",
    "    for i in range(len(t)):\n",
    "        if t[i] not in c_s.keys():\n",
    "            c_s[t[i]] = s[i]\n",
    "        elif t[i] in c_s.keys():\n",
    "            if c_s[t[i]] != s[i]:\n",
    "                return False\n",
    "    return True\n",
    "        \n",
    "print(isIsomorphic('ab','ca'))"
   ]
  },
  {
   "cell_type": "code",
   "execution_count": 15,
   "metadata": {},
   "outputs": [
    {
     "name": "stdout",
     "output_type": "stream",
     "text": [
      "('a', 'e')\n",
      "('g', 'd')\n",
      "('g', 'd')\n"
     ]
    }
   ],
   "source": [
    "for i in zip('agg', 'edd'):\n",
    "    print(i)"
   ]
  },
  {
   "cell_type": "code",
   "execution_count": 23,
   "metadata": {},
   "outputs": [
    {
     "name": "stdout",
     "output_type": "stream",
     "text": [
      "False\n"
     ]
    }
   ],
   "source": [
    "def isIsomorphic(s, t):  ## wrong ,not only one unique map. map from s to t and also t to s\n",
    "    \"\"\"\n",
    "    :type s: str\n",
    "    :type t: str\n",
    "    :rtype: bool\n",
    "    \"\"\"\n",
    "    if len(s) != len(t):\n",
    "        return False\n",
    "    c_s = c_t = {}\n",
    "    for idx, (a, b) in enumerate(zip(s,t)):\n",
    "        if a not in c_s:\n",
    "            c_s[a] = idx\n",
    "        if b not in c_t:\n",
    "            c_t[b] = idx\n",
    "        if c_s[a] != c_t[b]:\n",
    "            return False\n",
    "    return True\n",
    "\n",
    "print(isIsomorphic('ab','ca'))"
   ]
  },
  {
   "cell_type": "code",
   "execution_count": 25,
   "metadata": {},
   "outputs": [
    {
     "name": "stdout",
     "output_type": "stream",
     "text": [
      "True\n"
     ]
    }
   ],
   "source": [
    "def isIsomorphic(s, t):  ## use number to decide\n",
    "    \"\"\"\n",
    "    :type s: str\n",
    "    :type t: str\n",
    "    :rtype: bool\n",
    "    \"\"\"\n",
    "    return len(set(zip(s,t))) == len(set(s)) == len(set(t))\n",
    "\n",
    "print(isIsomorphic('ab','ca'))"
   ]
  },
  {
   "cell_type": "markdown",
   "metadata": {},
   "source": [
    "### 204. Count Primes "
   ]
  },
  {
   "cell_type": "markdown",
   "metadata": {},
   "source": [
    "Count the number of prime numbers less than a non-negative number, n."
   ]
  },
  {
   "cell_type": "code",
   "execution_count": 43,
   "metadata": {},
   "outputs": [
    {
     "name": "stdout",
     "output_type": "stream",
     "text": [
      "[True, True, True, True, False, True]\n",
      "3\n"
     ]
    }
   ],
   "source": [
    "def countPrimes(n):  #Time Limit Exceeded \n",
    "        \"\"\"\n",
    "        :type n: int\n",
    "        :rtype: int\n",
    "        \"\"\"\n",
    "        if n <=2:\n",
    "            return 0\n",
    "        res = [True] * n\n",
    "        for i in range(2, n):\n",
    "            for j in range(2, (n-1)//i + 1):\n",
    "                res[i * j] = False\n",
    "        print(res)\n",
    "        return sum(res) -2\n",
    "    \n",
    "print(countPrimes(6))"
   ]
  },
  {
   "cell_type": "code",
   "execution_count": 48,
   "metadata": {},
   "outputs": [
    {
     "name": "stdout",
     "output_type": "stream",
     "text": [
      "[True, True, True, True, False, True]\n",
      "3\n"
     ]
    }
   ],
   "source": [
    "def countPrimes(n):  \n",
    "        \"\"\"\n",
    "        :type n: int\n",
    "        :rtype: int\n",
    "        \"\"\"\n",
    "        if n <=2:\n",
    "            return 0\n",
    "        res = [True] * n\n",
    "        for i in range(2, int(n**0.5) +1):   # at least one of the factor is no more than n**0.5 \n",
    "            for j in range(i*i, n, i):\n",
    "                res[j] = False\n",
    "        return sum(res) -2\n",
    "    \n",
    "print(countPrimes(6))"
   ]
  },
  {
   "cell_type": "code",
   "execution_count": 50,
   "metadata": {},
   "outputs": [
    {
     "name": "stdout",
     "output_type": "stream",
     "text": [
      "3\n"
     ]
    }
   ],
   "source": [
    "def countPrimes(n):   # Faster\n",
    "        \"\"\"\n",
    "        :type n: int\n",
    "        :rtype: int\n",
    "        \"\"\"\n",
    "        if n <=2:\n",
    "            return 0\n",
    "        res = [True] * n\n",
    "        for i in range(2, int(n**0.5) +1): \n",
    "            res[i*i:n:i] = [False]*((n-1-i*i)//i +1)\n",
    "        return sum(res) -2\n",
    "    \n",
    "print(countPrimes(6))"
   ]
  },
  {
   "cell_type": "markdown",
   "metadata": {},
   "source": [
    "### 290. Word Pattern "
   ]
  },
  {
   "cell_type": "markdown",
   "metadata": {},
   "source": [
    "Given a pattern and a string str, find if str follows the same pattern.\n",
    "\n",
    "Here follow means a full match, such that there is a bijection between a letter in pattern and a non-empty word in str."
   ]
  },
  {
   "cell_type": "code",
   "execution_count": 55,
   "metadata": {},
   "outputs": [
    {
     "name": "stdout",
     "output_type": "stream",
     "text": [
      "False\n"
     ]
    }
   ],
   "source": [
    "def wordPattern(pattern, str):\n",
    "        \"\"\"\n",
    "        :type pattern: str\n",
    "        :type str: str\n",
    "        :rtype: bool\n",
    "        \"\"\"\n",
    "        str = str.split()\n",
    "        if len(pattern) != len(str):   # length\n",
    "            return False\n",
    "        elif len(set(pattern)) != len(set(str)):  # labels\n",
    "            return False\n",
    "        s_d = {}\n",
    "        for i in range(len(pattern)):\n",
    "            if pattern[i] not in s_d:\n",
    "                s_d[pattern[i]] = str[i]\n",
    "            else:\n",
    "                if s_d[pattern[i]] != str[i]:\n",
    "                    return False\n",
    "        return True\n",
    "    \n",
    "print(wordPattern('abba','dog dog dog dog'))\n",
    "                "
   ]
  },
  {
   "cell_type": "code",
   "execution_count": 53,
   "metadata": {},
   "outputs": [
    {
     "data": {
      "text/plain": [
       "['dog', 'are', 'is', 'dog']"
      ]
     },
     "execution_count": 53,
     "metadata": {},
     "output_type": "execute_result"
    }
   ],
   "source": [
    "'dog are is dog'.split()"
   ]
  },
  {
   "cell_type": "code",
   "execution_count": null,
   "metadata": {},
   "outputs": [],
   "source": []
  }
 ],
 "metadata": {
  "kernelspec": {
   "display_name": "Python 3",
   "language": "python",
   "name": "python3"
  },
  "language_info": {
   "codemirror_mode": {
    "name": "ipython",
    "version": 3
   },
   "file_extension": ".py",
   "mimetype": "text/x-python",
   "name": "python",
   "nbconvert_exporter": "python",
   "pygments_lexer": "ipython3",
   "version": "3.6.1"
  }
 },
 "nbformat": 4,
 "nbformat_minor": 2
}
